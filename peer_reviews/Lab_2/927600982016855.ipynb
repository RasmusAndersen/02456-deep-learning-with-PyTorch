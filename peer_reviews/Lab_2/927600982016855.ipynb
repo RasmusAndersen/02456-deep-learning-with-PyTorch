{
 "cells": [
  {
   "cell_type": "markdown",
   "metadata": {
    "colab_type": "text",
    "id": "xEXSfFvdOMF0"
   },
   "source": [
    "# Contents and why we need this lab\n",
    "\n",
    "This lab is about implementing neural networks yourself in NumPy before we start using other frameworks which hide some of the computation from you. It builds on the first lab where you derived the equations for neural network forward and backward propagation and gradient descent parameter updates."
   ]
  },
  {
   "cell_type": "markdown",
   "metadata": {
    "colab_type": "text",
    "id": "NJaaTGStOMF3"
   },
   "source": [
    "# External sources of information\n",
    "\n",
    "1. Jupyter notebook. You can find more information about Jupyter notebooks [here](https://jupyter.org/). It will come as part of the [Anaconda](https://www.anaconda.com/) Python installation. \n",
    "2. [NumPy](https://numpy.org/). Part of Anaconda distribution. If you already know how to program most things about Python and NumPy can be found through Google search. \n"
   ]
  },
  {
   "cell_type": "markdown",
   "metadata": {
    "colab_type": "text",
    "id": "MQ2gTOL8OMF4"
   },
   "source": [
    "# This notebook will follow the next steps:\n",
    "\n",
    "1. Data generation\n",
    "2. Initialization of parameters\n",
    "3. Definition of activation functions   \n",
    "4. A short explanation of numpy's einsum function\n",
    "5. Forward pass\n",
    "6. Backward pass (backward pass and finite differences)\n",
    "7. Training loop \n",
    "8. Testing your model\n",
    "9. Further extensions"
   ]
  },
  {
   "cell_type": "markdown",
   "metadata": {
    "colab_type": "text",
    "id": "7Ih_U8JlOMF6"
   },
   "source": [
    "# Create an artificial dataset to play with\n",
    "\n",
    "We create a non-linear 1d regression task. The generator supports various noise levels and it creates train, validation and test sets. You can modify it yourself if you want more or less challenging tasks."
   ]
  },
  {
   "cell_type": "code",
   "execution_count": 2,
   "metadata": {
    "colab": {},
    "colab_type": "code",
    "id": "8CLttSbiOMF9"
   },
   "outputs": [],
   "source": [
    "import numpy as np\n",
    "import matplotlib.pyplot as plt\n",
    "\n",
    "np.random.seed(42)"
   ]
  },
  {
   "cell_type": "code",
   "execution_count": 3,
   "metadata": {
    "colab": {},
    "colab_type": "code",
    "id": "KycaOkk0OMGH"
   },
   "outputs": [],
   "source": [
    "def data_generator(noise=0.1, n_samples=300, D1=True):\n",
    "    # Create covariates and response variable\n",
    "    if D1:\n",
    "        X = np.linspace(-3, 3, num=n_samples).reshape(-1,1) # 1-D\n",
    "        np.random.shuffle(X)\n",
    "        y = np.random.normal((0.5*np.sin(X[:,0]*3) + X[:,0]), noise) # 1-D with trend\n",
    "    else:\n",
    "        X = np.random.multivariate_normal(np.zeros(3), noise*np.eye(3), size = n_samples) # 3-D\n",
    "        np.random.shuffle(X)    \n",
    "        y = np.sin(X[:,0]) - 5*(X[:,1]**2) + 0.5*X[:,2] # 3-D\n",
    "\n",
    "    # Stack them together vertically to split data set\n",
    "    data_set = np.vstack((X.T,y)).T\n",
    "    \n",
    "    train, validation, test = np.split(data_set, [int(0.35*n_samples), int(0.7*n_samples)], axis=0)\n",
    "    \n",
    "    # Standardization of the data, remember we do the standardization with the training set mean and standard deviation\n",
    "    train_mu = np.mean(train, axis=0)\n",
    "    train_sigma = np.std(train, axis=0)\n",
    "    \n",
    "    train = (train-train_mu)/train_sigma\n",
    "    validation = (validation-train_mu)/train_sigma\n",
    "    test = (test-train_mu)/train_sigma\n",
    "    \n",
    "    x_train, x_validation, x_test = train[:,:-1], validation[:,:-1], test[:,:-1]\n",
    "    y_train, y_validation, y_test = train[:,-1], validation[:,-1], test[:,-1]\n",
    "\n",
    "    return x_train, y_train,  x_validation, y_validation, x_test, y_test"
   ]
  },
  {
   "cell_type": "code",
   "execution_count": 4,
   "metadata": {
    "colab": {
     "base_uri": "https://localhost:8080/",
     "height": 1000
    },
    "colab_type": "code",
    "id": "_t_tV0WBQiJl",
    "outputId": "4ca03177-ad48-4a17-eb93-a42878f73b2d"
   },
   "outputs": [
    {
     "data": {
      "text/plain": [
       "array([[ 0.15707481, -0.04372301,  0.2048171 ],\n",
       "       [ 0.48162433, -0.0740458 , -0.07404061],\n",
       "       [ 0.49939094,  0.24268417, -0.14846084],\n",
       "       [ 0.17157255, -0.14654554, -0.14727668],\n",
       "       [ 0.07651519, -0.60503234, -0.54546691],\n",
       "       [-0.17781093, -0.32028532,  0.09937373],\n",
       "       [-0.28714242, -0.44660964,  0.46347884],\n",
       "       [-0.07139674,  0.02135429, -0.45054494],\n",
       "       [-0.17214893,  0.0350768 , -0.36397613],\n",
       "       [ 0.11880615, -0.18993863, -0.09224166],\n",
       "       [-0.19027634,  0.58574179, -0.0042682 ],\n",
       "       [-0.33447756,  0.26011154, -0.38606466],\n",
       "       [ 0.06604847, -0.61970211, -0.42000931],\n",
       "       [ 0.06225299,  0.23352364,  0.05419141],\n",
       "       [-0.0365712 , -0.09521735, -0.46754971],\n",
       "       [-0.22763473, -0.14566677,  0.3342914 ],\n",
       "       [ 0.10866164, -0.55752225,  0.10248435],\n",
       "       [-0.12177371, -0.21406153,  0.19342903],\n",
       "       [ 0.32603068,  0.29449663, -0.26538388],\n",
       "       [-0.09778154,  0.10475469,  0.30849446],\n",
       "       [-0.1515282 , -0.05871052, -0.34985384],\n",
       "       [-0.37827375,  0.25694323,  0.42888075],\n",
       "       [-0.0227716 ,  0.31734497,  0.11435935],\n",
       "       [-0.20400478,  0.11428332,  0.48636987],\n",
       "       [-0.01132919,  0.49478377, -0.82843614],\n",
       "       [ 0.25990839,  0.0275267 , -0.09455443],\n",
       "       [ 0.02901731, -0.62852448, -0.06946635],\n",
       "       [ 0.11292891,  0.46735113, -0.16389143],\n",
       "       [-0.25566813, -0.15866951,  0.28947557],\n",
       "       [ 0.10396023, -0.16752489,  0.16230941],\n",
       "       [ 0.03069862,  0.30631244, -0.22200868],\n",
       "       [-0.10361587, -0.12399549, -0.46280406],\n",
       "       [ 0.09364145,  0.08255293,  0.00161702],\n",
       "       [-0.07418297, -0.44757953, -0.13301973],\n",
       "       [-0.10837585, -0.25370235, -0.05100302],\n",
       "       [ 0.1277721 ,  0.59646435,  0.05520635],\n",
       "       [ 0.08144458, -0.02354187, -0.60676873],\n",
       "       [-0.00838442,  0.01904646,  0.77894555],\n",
       "       [-0.06082988,  0.09535764, -0.01097683],\n",
       "       [-0.36956845,  0.36139231,  0.2377821 ],\n",
       "       [ 0.25014627, -0.28757356,  0.44360251],\n",
       "       [-0.44330423,  0.18558051,  0.69268289],\n",
       "       [-0.31323509, -0.17907907,  0.03151253],\n",
       "       [-0.15921298, -0.49036283,  0.02168152],\n",
       "       [-0.33592993,  0.14976308, -0.29074747],\n",
       "       [ 0.49013229, -0.24768644, -0.10184479],\n",
       "       [ 0.25725673, -0.38923347,  0.07192915],\n",
       "       [ 0.41335483, -0.50833083,  0.05838635],\n",
       "       [ 0.08218216,  0.2472341 , -0.39115816],\n",
       "       [-0.41756504,  0.16505242,  0.0939148 ],\n",
       "       [ 0.07921279,  0.10955654, -0.2150427 ],\n",
       "       [ 0.07344507,  0.09267765, -0.22589775],\n",
       "       [ 0.59000971,  0.14983913, -0.37672324],\n",
       "       [ 0.20762048, -0.30822141,  0.24889801],\n",
       "       [ 0.36638009, -0.25952254,  0.30464628],\n",
       "       [ 0.13053279,  0.25995825,  0.59981861],\n",
       "       [-0.07759854, -0.2383523 , -0.28128916],\n",
       "       [-0.25798186, -0.0243817 ,  0.10788173],\n",
       "       [ 0.08749731,  0.26157831,  0.00411156],\n",
       "       [ 0.45964783, -0.08369184,  0.86019302],\n",
       "       [ 0.19785339, -0.27105702, -0.33864594],\n",
       "       [ 0.15257117, -0.07066514,  0.22578678],\n",
       "       [ 0.14965088, -0.02303052, -0.26777969],\n",
       "       [-0.47903675, -0.14120043,  0.27081708],\n",
       "       [ 0.06770239, -0.39393719,  0.05476462],\n",
       "       [ 0.12184805, -0.27950026,  0.04861215],\n",
       "       [ 0.01840721, -0.36143894,  0.1131423 ],\n",
       "       [ 0.17733564,  0.34249088,  0.33324147],\n",
       "       [-0.43565731, -0.29656632,  0.16286845],\n",
       "       [ 0.16247338,  0.16287238,  1.21834067],\n",
       "       [ 0.18053143,  0.35909739,  0.30168185],\n",
       "       [ 0.205988  , -0.09969689,  0.24000714],\n",
       "       [-0.24438879, -0.07488862, -0.15348543],\n",
       "       [ 0.02589088,  0.73195931, -0.5904811 ],\n",
       "       [ 0.21701453, -0.50998554, -0.14923796],\n",
       "       [ 0.34435641,  0.02032713, -0.34081282],\n",
       "       [-0.22619889,  0.21490768, -0.23096221],\n",
       "       [ 0.06845022,  0.01441108, -0.20605412],\n",
       "       [ 0.67797465,  0.2004628 , -0.64040632],\n",
       "       [ 0.05896203, -0.20927526,  0.26956309],\n",
       "       [-0.25061706, -0.03628285,  0.159691  ],\n",
       "       [ 0.27377583, -0.37956705, -0.10577858],\n",
       "       [-0.15019089, -0.20660084,  0.55828565],\n",
       "       [ 0.12806646, -0.39872652,  0.29025343],\n",
       "       [ 0.67108471,  0.32649418, -0.48046697],\n",
       "       [-0.15312826,  0.40063248, -0.22378473],\n",
       "       [ 0.14034803,  0.2449608 , -0.29312115],\n",
       "       [-0.01882357, -1.02497873, -0.32393982],\n",
       "       [-0.07986906, -0.39458369,  0.51621378],\n",
       "       [-0.45225041, -0.13915428,  0.0413438 ],\n",
       "       [ 0.45577063, -0.45405948,  0.36782467],\n",
       "       [ 0.00323598, -0.31038029,  0.14612995],\n",
       "       [ 0.0629482 , -0.18980524,  0.02207336],\n",
       "       [-0.12184686,  0.03589734,  0.2093841 ],\n",
       "       [ 0.50154255, -0.39143163,  0.67452438],\n",
       "       [-0.61730436, -0.04799866,  0.18604224],\n",
       "       [ 0.08885743, -0.19691488, -0.06581403],\n",
       "       [-0.15590058, -0.1863735 ,  0.26866777],\n",
       "       [ 0.11289821, -0.21911725,  0.28447846],\n",
       "       [ 0.09717664,  0.25704957,  0.19910612],\n",
       "       [-0.26215124, -0.1771448 ,  0.23631499],\n",
       "       [ 0.19301603, -0.00660966,  0.03710218],\n",
       "       [ 0.40403312, -0.1870713 ,  0.17300738],\n",
       "       [-0.06393893, -0.06883684,  0.34746375],\n",
       "       [ 0.26101957,  0.25725433,  0.41282865],\n",
       "       [ 0.006642  ,  0.21565246, -0.09811496],\n",
       "       [ 0.1025104 , -0.04115485,  0.03067282],\n",
       "       [ 0.18820518, -0.2587441 ,  0.66167095],\n",
       "       [-0.31813063, -0.38396015,  0.36622681],\n",
       "       [ 0.25034573,  0.19736402,  0.1987003 ],\n",
       "       [-0.00387277, -0.28373675,  0.02397151],\n",
       "       [-0.21413734,  0.30835993, -0.04650363],\n",
       "       [-0.26104513, -0.10163113,  0.13058039],\n",
       "       [-0.17826536, -0.26000892,  0.07706066],\n",
       "       [ 0.07746523, -0.16030951, -0.14895539],\n",
       "       [ 0.07338063, -0.45792448, -0.44507913],\n",
       "       [-0.22719201, -0.06749792,  0.0983176 ],\n",
       "       [ 0.4665486 ,  0.27121579, -0.050577  ],\n",
       "       [-0.00601345, -0.31702762, -0.00585437],\n",
       "       [-0.09128188,  0.10205257, -0.26159339],\n",
       "       [ 0.16423179,  0.4846946 , -0.03439298],\n",
       "       [ 0.1270324 ,  0.21824269, -0.12687705],\n",
       "       [ 0.07086426,  0.00398207,  0.03088789],\n",
       "       [-0.24444716,  0.0077508 ,  0.15748089],\n",
       "       [ 0.4588919 ,  0.30334807,  0.68089608],\n",
       "       [-0.24265661,  0.27585201,  0.05797783],\n",
       "       [ 0.69247649, -0.25560636, -0.26554336],\n",
       "       [-0.1895446 , -0.6716348 , -0.16625834],\n",
       "       [-0.24005883,  0.04755869,  0.10807273],\n",
       "       [ 0.59329731,  0.30055041, -0.18243295],\n",
       "       [-0.28410366,  0.1555585 , -0.4174944 ],\n",
       "       [ 0.57915811,  0.37297171, -0.14836637],\n",
       "       [-0.54174071,  0.42813204, -0.03622068],\n",
       "       [ 0.39143189, -0.5042023 , -0.18953902],\n",
       "       [ 0.0016582 ,  0.01485657, -0.1423232 ],\n",
       "       [ 0.19696244, -0.33761122, -0.04502435],\n",
       "       [ 0.03804082,  0.16267984,  0.22503238],\n",
       "       [-0.35564306, -0.4851295 ,  0.40403689],\n",
       "       [ 0.10508692, -0.23669223,  0.49051732],\n",
       "       [ 0.03657953,  0.37292651,  0.02135122],\n",
       "       [ 0.65166571,  0.55508751, -0.07872938],\n",
       "       [ 0.30723771,  0.20408579,  0.4327993 ],\n",
       "       [-0.30513559,  0.21694852,  0.33470321],\n",
       "       [-0.55616226, -0.3741792 , -0.64486184],\n",
       "       [-0.08519392,  0.22690678,  0.47508701],\n",
       "       [ 0.02343083,  0.51501346, -0.4364264 ],\n",
       "       [-0.53865682, -0.01756572,  0.12145216],\n",
       "       [-0.01033899, -0.6537826 , -0.02818223],\n",
       "       [-0.41250948,  0.21176905,  0.11592854],\n",
       "       [-0.29721609, -0.16249899, -0.33495273],\n",
       "       [-0.01982087,  0.30204252, -0.31171395],\n",
       "       [ 0.1593935 , -0.16768218, -0.2507284 ],\n",
       "       [-0.03384597, -0.32737237, -0.17507928],\n",
       "       [-0.37880225,  0.62130064,  0.01115131],\n",
       "       [-0.22127263,  0.06766639, -0.03552125],\n",
       "       [-0.06987672,  0.19421656,  0.23954497],\n",
       "       [-0.16775919, -0.18208972, -0.08697898],\n",
       "       [-0.72793139, -0.47914548,  0.4322436 ],\n",
       "       [ 0.52018447, -0.07875211,  0.18232332],\n",
       "       [ 0.09842594,  0.9736276 ,  0.35404067],\n",
       "       [-0.04045109, -0.30216842, -0.50800293],\n",
       "       [ 0.06434085, -0.23917911, -0.44975611],\n",
       "       [-0.2044643 , -0.34201551,  0.53352103],\n",
       "       [ 0.27879897, -0.00252117,  0.46799943],\n",
       "       [ 0.02446601, -0.27236198,  0.48165412],\n",
       "       [ 0.17041832, -0.32800603, -0.06019037],\n",
       "       [-0.2768948 , -0.43727967,  0.29288306],\n",
       "       [ 0.60381056, -0.4422659 ,  0.1780265 ],\n",
       "       [-0.20575125, -0.15404257, -0.18733141],\n",
       "       [-0.27321787,  0.01534389, -0.2627695 ],\n",
       "       [ 0.08552596, -0.01588669, -0.07556201],\n",
       "       [-0.28699683, -0.18239111,  0.23887568],\n",
       "       [ 0.15840392, -0.30913011,  0.03141163],\n",
       "       [ 0.23760947, -0.5279123 ,  0.17182558],\n",
       "       [-0.20954003,  0.18043914, -0.24136374],\n",
       "       [-0.57075383, -0.51467411,  0.0152058 ],\n",
       "       [ 0.08213147, -0.28597003,  0.20194067],\n",
       "       [-0.52541878, -0.02089627, -0.38295695],\n",
       "       [-0.20612868,  0.01498878, -0.2720866 ],\n",
       "       [-0.12160714,  0.31821773, -0.18242923],\n",
       "       [ 0.26426905, -0.35724467,  0.16753879],\n",
       "       [ 0.45586402, -0.78160262, -0.25200041],\n",
       "       [ 0.18248623, -0.06420859,  0.11736663],\n",
       "       [-0.19099689,  0.0273821 , -0.04922946],\n",
       "       [ 0.36928511,  0.08045493,  0.10675934],\n",
       "       [-0.13024693, -0.15419463, -0.13678691],\n",
       "       [ 0.12473672, -0.13312698,  0.09163486],\n",
       "       [ 0.65629936,  0.27547382, -0.10309769],\n",
       "       [ 0.3798572 , -0.12904476, -0.64451157],\n",
       "       [-0.31878488, -0.59159635, -0.11115832],\n",
       "       [ 0.0058244 ,  0.53013603,  0.10338351],\n",
       "       [-0.06928567,  0.26228107, -0.69922238],\n",
       "       [ 0.07450787,  0.24376898, -0.46757003],\n",
       "       [ 0.36168679,  0.10704196, -0.13132557],\n",
       "       [ 0.2001032 ,  0.71805613,  0.05751116],\n",
       "       [ 0.07849424, -0.14526267, -0.26874439],\n",
       "       [ 0.26257524, -0.27071748,  0.02263123],\n",
       "       [-0.15104855,  0.15146672,  0.10551322],\n",
       "       [ 0.32809894, -0.16128135, -0.08534195],\n",
       "       [-0.30951226, -0.14049787,  0.11931289],\n",
       "       [ 0.23938082, -0.29161428,  0.27499354],\n",
       "       [ 0.42869033,  0.1307396 ,  0.59349495],\n",
       "       [-0.24469363, -0.39359438, -0.56248073],\n",
       "       [ 0.47309075,  0.20692859, -0.01757742],\n",
       "       [ 0.08853385, -0.35591089,  0.77341468],\n",
       "       [ 0.04086333,  0.03459367,  0.22950756],\n",
       "       [ 0.15210847,  0.07079834, -0.24996997],\n",
       "       [ 0.14909139,  0.5951484 ,  0.42545918],\n",
       "       [ 0.50380985, -0.16166059, -0.31294052],\n",
       "       [-0.03977732,  0.01762176,  0.34601374],\n",
       "       [-0.53520431,  0.48368628, -0.04996648],\n",
       "       [-0.13499165, -0.32005551, -0.52331163],\n",
       "       [ 0.26030939,  0.02318518, -0.40792145],\n",
       "       [-0.40953987, -0.10618445,  0.52779095],\n",
       "       [-0.08208999, -0.47533554, -0.07771078],\n",
       "       [-0.08624277, -0.85283044, -0.01716954],\n",
       "       [-0.07302791,  0.22015978,  0.58469126],\n",
       "       [ 0.35625114, -0.08503007, -0.34991422],\n",
       "       [ 0.81376782,  0.01872651,  0.00440483],\n",
       "       [-0.00762902,  0.0626399 , -0.04565077],\n",
       "       [-0.18140785, -0.17293198, -0.01035749],\n",
       "       [-0.171846  , -0.22542163,  0.03365619],\n",
       "       [-0.08063088,  0.47560434, -0.83831026],\n",
       "       [ 0.34516477,  0.39404674, -0.65566356],\n",
       "       [-0.10836733, -0.11745992, -0.44509428],\n",
       "       [-0.24596723, -0.35119492,  0.55411657],\n",
       "       [ 0.29588749,  0.40210103,  0.22821274],\n",
       "       [-0.35703752, -0.16586787,  0.15475382],\n",
       "       [-0.38647075,  0.2254699 , -0.07599756],\n",
       "       [-0.11852875,  0.22482528,  0.14048839],\n",
       "       [-0.11414752,  0.36661227, -0.34186224],\n",
       "       [ 0.19477594,  0.18755509, -0.09788718],\n",
       "       [ 0.10313232, -0.39563685,  0.292203  ],\n",
       "       [-0.05847119, -0.16529953,  0.33172584],\n",
       "       [-0.22273303, -0.44539457, -0.49224937],\n",
       "       [ 0.19163717, -0.40490731,  0.55491464],\n",
       "       [-0.65836389,  0.53646661,  0.06672958],\n",
       "       [-0.03058337, -0.17231855,  0.12621792],\n",
       "       [-0.01190114,  0.34889469,  0.03612195],\n",
       "       [ 0.04752959, -0.11498428, -0.01800779],\n",
       "       [ 0.09733547, -0.54080273, -0.42633366],\n",
       "       [ 0.23504074,  0.0540324 , -0.05818064],\n",
       "       [ 0.00582932,  0.10991499, -0.170687  ],\n",
       "       [-0.24612156,  0.06193171, -0.30938864],\n",
       "       [ 0.12910086, -0.53840421,  0.32544759],\n",
       "       [ 0.14944845,  0.08096371,  0.31075417],\n",
       "       [ 0.52666926,  0.32077198, -0.58213555],\n",
       "       [-0.40463777, -0.19758498,  0.00825071],\n",
       "       [ 0.16369816, -0.22950034,  0.05906084],\n",
       "       [-0.23887306, -0.19337891, -0.4448253 ],\n",
       "       [-0.29195199, -0.4274402 , -0.30859822],\n",
       "       [ 0.33319079, -0.30022629,  0.8324323 ],\n",
       "       [ 0.15600082,  0.05845031, -0.27143656],\n",
       "       [ 0.22145743, -0.18203266,  0.03858289],\n",
       "       [ 0.80956981, -0.03037681,  0.36343214],\n",
       "       [-0.22236391, -0.01106433,  0.55997633],\n",
       "       [-0.19826439,  0.57314656,  0.22381081],\n",
       "       [-0.17786761,  0.19998489,  0.30754872],\n",
       "       [ 0.19663358, -0.49654866, -0.22994096],\n",
       "       [-0.07827227, -0.02353792,  0.19627375],\n",
       "       [ 0.05619399, -0.42227296,  0.12022912],\n",
       "       [ 0.19308417,  0.17702128,  0.34177287],\n",
       "       [ 0.26370934,  0.14520549, -0.02218835],\n",
       "       [-0.52524197,  0.13585721,  0.06567661],\n",
       "       [ 0.08588077, -0.40374335, -0.34186009],\n",
       "       [ 0.33303617, -0.01250844,  0.21550944],\n",
       "       [ 0.00895506,  0.00940972,  0.29671139],\n",
       "       [-0.16318767,  0.03039606, -0.14618428],\n",
       "       [-0.13739977, -0.09776881,  0.07024487],\n",
       "       [-0.15139361,  0.39710495, -0.28289967],\n",
       "       [-0.059094  , -0.13905517,  0.45757458],\n",
       "       [ 0.06215608,  0.32629789, -0.46977544],\n",
       "       [ 0.08444871,  0.28132596,  0.02602048],\n",
       "       [ 0.33693448, -0.16358097,  0.44567479],\n",
       "       [ 0.72697542, -0.11473963, -0.14088027],\n",
       "       [ 0.45960053,  0.49950457, -0.16534286],\n",
       "       [-0.13287474, -0.08910812, -0.42515258],\n",
       "       [-0.29050325, -0.31753719, -0.24279891],\n",
       "       [-0.01096832,  0.0740652 ,  0.49031131],\n",
       "       [-0.31570727,  0.31127007, -0.06766921],\n",
       "       [-0.0156418 ,  0.21339666, -0.35503588],\n",
       "       [ 0.12092858,  0.05263681,  0.15572676],\n",
       "       [ 0.09144315,  0.77643408, -0.20167109],\n",
       "       [-0.16791598, -0.19705434, -0.17565729],\n",
       "       [-0.20155951,  0.37600004,  0.44920288],\n",
       "       [-0.18048583, -0.26321394,  0.14907469],\n",
       "       [-0.17462826,  0.20015061,  0.06416989],\n",
       "       [-0.47932038,  0.48936411,  0.56790638],\n",
       "       [-0.1937808 , -0.122602  ,  0.09039857],\n",
       "       [ 0.10576452,  0.20824998,  0.63568249],\n",
       "       [-0.05595563, -0.25244375, -0.43617904],\n",
       "       [-0.23114037, -0.01047567,  0.56748902],\n",
       "       [-0.16368306,  0.07076796, -0.00519338],\n",
       "       [ 0.37580295,  0.7990862 , -0.16787545],\n",
       "       [-0.15477434,  0.33019266,  0.21563302],\n",
       "       [ 0.58398013,  0.18465431, -0.11361814],\n",
       "       [ 0.18678146,  0.35060286,  0.25945925],\n",
       "       [ 0.16041413,  0.33731215,  0.36976373],\n",
       "       [ 0.43707705,  0.20514008, -0.05284738],\n",
       "       [ 0.04639494,  0.38153164, -0.25833774]])"
      ]
     },
     "execution_count": 4,
     "metadata": {
      "tags": []
     },
     "output_type": "execute_result"
    }
   ],
   "source": [
    "np.random.multivariate_normal(np.zeros(3), 0.1*np.eye(3), size = 300)"
   ]
  },
  {
   "cell_type": "code",
   "execution_count": 5,
   "metadata": {
    "colab": {},
    "colab_type": "code",
    "id": "oTF2YLMBOMGP"
   },
   "outputs": [],
   "source": [
    "D1 = True\n",
    "x_train, y_train,  x_validation, y_validation, x_test, y_test = data_generator(noise=0.5, D1=D1)"
   ]
  },
  {
   "cell_type": "code",
   "execution_count": 6,
   "metadata": {
    "colab": {
     "base_uri": "https://localhost:8080/",
     "height": 265
    },
    "colab_type": "code",
    "id": "P9ryUwn9OMGW",
    "outputId": "363244be-ee4d-4256-de77-587759f66086"
   },
   "outputs": [
    {
     "data": {
      "image/png": "[encoded data removed]",
      "text/plain": [
       "<Figure size 432x288 with 1 Axes>"
      ]
     },
     "metadata": {
      "needs_background": "light",
      "tags": []
     },
     "output_type": "display_data"
    }
   ],
   "source": [
    "if D1:\n",
    "    plt.scatter(x_train[:,0], y_train);\n",
    "    plt.scatter(x_validation[:,0], y_validation);\n",
    "    plt.scatter(x_test[:,0], y_test);\n",
    "else:\n",
    "    plt.scatter(x_train[:,1], y_train);\n",
    "    plt.scatter(x_validation[:,1], y_validation);\n",
    "    plt.scatter(x_test[:,1], y_test);\n",
    "plt.show()"
   ]
  },
  {
   "cell_type": "markdown",
   "metadata": {
    "colab_type": "text",
    "id": "f65ordOTOMGg"
   },
   "source": [
    "# Initialization"
   ]
  },
  {
   "cell_type": "markdown",
   "metadata": {
    "colab_type": "text",
    "id": "fyxt6e-xOMGg"
   },
   "source": [
    "The steps to create a feed forward neural network are the following:\n",
    "\n",
    "1. **Number of hidden layer and hidden units**. We have to define the number of hidden units in each layer. We are going to save these numbers in a list \"L\" that is going to start with our input dimensionality (the number of features in X) and is going to finish with our output dimensionality (the size of Y). Anything in between these values are going to be hidden layers and the number of hidden units in each hidden layer is defined by the researcher. Remember that for each unit in each layer (besides the first one, according to our list L) there is a bias term.\n",
    "2. **Activation functions** for each hidden layer. Each hidden layer in your list must have an activation function (it can also be the linear activation which is equivalent to identity function). The power of neural networks comes from non-linear activation functions that learn representations (features) from the data allowing us to learn from it. \n",
    "3. **Parameter initialization**. We will initialize the weights to have random values. This is done in practice by drawing pseudo random numbers from a Gaussian or uniform distribution. It turns out that for deeper models we have to be careful about how we scale the random numbers. This will be the topic of the exercise below. For now we will just use unit variance Gaussians.  \n",
    "\n",
    "Our initialization will work as follows: \n",
    "\n",
    "For each layer of the neural network defined in L, initialize a matrix of weights of size (units_in, units_out) from a random normal distribution [np.random.normal()](https://docs.scipy.org/doc/numpy-1.15.0/reference/generated/numpy.random.normal.html) and save them in a list called \"layers\". For each layer in our neural network, initialize a matrix of weights of size (1, units_out) as above and save them in a list called \"bias\". The function should return a tuple (layers, bias). The length of our lists must be len(L)-1."
   ]
  },
  {
   "cell_type": "code",
   "execution_count": 7,
   "metadata": {
    "colab": {},
    "colab_type": "code",
    "id": "QM2sJ6gsOMGh"
   },
   "outputs": [],
   "source": [
    "# Initialize neural network:\n",
    "# the NN is a tuple with a list with weights and list with biases\n",
    "def init_NN(L):\n",
    "    \"\"\"\n",
    "    Function that initializes our feed-forward neural network. \n",
    "    Input: \n",
    "    L: list of integers. The first element must be equal to the number of features of x and the last element \n",
    "        must be the number of outputs in the network.\n",
    "    Output:\n",
    "    A tuple of:\n",
    "    weights: a list with randomly initialized weights of shape (in units, out units) each. The units are the ones we defined in L.\n",
    "        For example, if L = [2, 3, 4] layers must be a list with a first element of shape (2, 3) and a second elemtn of shape (3, 4). \n",
    "        The length of layers must be len(L)-1\n",
    "    biases: a list with randomly initialized biases of shape (1, out_units) each. For the example above, bias would be a list of length\n",
    "        2 with a first element of shape (1, 3) and a second element of shape (1, 4).\n",
    "    \"\"\"\n",
    "    weights = []\n",
    "    biases  = []\n",
    "    for i in range(len(L)-1):\n",
    "        weights.append(np.random.normal(loc=0.0, scale=1.0, size=[L[i],L[i+1]])) \n",
    "        biases.append(np.random.normal(loc=0.0, scale=1.0, size=[1, L[i+1]]))     \n",
    "        \n",
    "    return (weights, biases)\n",
    "\n",
    "# Initialize the unit test neural network:\n",
    "# Same steps as above but we will not initialize the weights randomly.\n",
    "def init_NN_UT(L):\n",
    "    weights = []\n",
    "    biases  = []\n",
    "    for i in range(len(L)-1):\n",
    "        weights.append(np.ones((L[i],L[i+1]))) \n",
    "        biases.append(np.ones((1, L[i+1])))     \n",
    "        \n",
    "    return (weights, biases)\n",
    "\n",
    "# Initializer the unit test neural network\n",
    "L_UT  = [3, 5, 1]\n",
    "NN_UT = init_NN_UT(L_UT)"
   ]
  },
  {
   "cell_type": "markdown",
   "metadata": {
    "colab_type": "text",
    "id": "dT1znZ6GOMGn"
   },
   "source": [
    "## Exercise a) Print all network parameters\n",
    "\n",
    "Make a function that prints all parameters (weights and biases) with information about in which layer the parameters are."
   ]
  },
  {
   "cell_type": "code",
   "execution_count": 1,
   "metadata": {
    "colab": {},
    "colab_type": "code",
    "id": "b4rAwDLCOMGo"
   },
   "outputs": [],
   "source": [
    "# Insert code here\n",
    "def print_parameters(weights, biases):\n",
    "\n",
    "    # get the number of layer\n",
    "    layer = len(weights)\n",
    "\n",
    "    for l in range(layer):\n",
    "        if l == 0:\n",
    "            print('Input to {} hidden layer: \\nweights: \\n{} \\nbias: \\n{}\\n'.format(l+1, weights[l], biases[l]))\n",
    "        elif l == layer - 1:\n",
    "            print('{} hidden layer to output: \\nweights: \\n{} \\nbias: \\n{}\\n'.format(l, weights[l], biases[l]))\n",
    "        else:\n",
    "            print('{} hidden layer to {} hidden layer: \\nweights: \\n{} \\nbias: \\n{}\\n'.format(l, l+1, weights[l], biases[l]))\n"
   ]
  },
  {
   "cell_type": "markdown",
   "metadata": {
    "colab_type": "text",
    "id": "zinN5HqJOMGs"
   },
   "source": [
    "# Advanced initialization schemes\n",
    "\n",
    "If we are not careful with initialization we can run into trouble with in both the forward and backward passes. We have random weights with random +/- sign so the signal we pass forward will also be random and zero on average. However, the absolute size of the signal may grow or shrink from layer to layer depending upon the absolute scale of random weights. A statistical analysis of this effect and the same effect for the backward pass are presented in these two papers: [Glorot initialization](http://proceedings.mlr.press/v9/glorot10a/glorot10a.pdf) and [He initialization](https://arxiv.org/pdf/1502.01852v1.pdf). \n",
    "\n",
    "The result of the analyses are proposals for how to make the initialization such that the variance of the signals (forward and backward) are kept constant when propagating layer to layer. The exact expressions depend upon the activation function used.\n",
    "\n",
    "We define $n_{in}$ and $n_{out}$ as the number of input units and output units of a particular layer. \n",
    "\n",
    "In the linked paper, Glorot and Bengio propose that for tanh activation functions the following two alternative initializations:\n",
    "\n",
    "$$w_{ij} \\sim U \\bigg[ -\\sqrt{\\frac{6}{(n_{in} + n_{out})}}, \\, \\sqrt{\\frac{6}{(n_{in} + n_{out})}} \\bigg]$$\n",
    "\n",
    "$$w_{ij} \\sim N \\bigg( 0, \\, \\frac{2}{(n_{in} + n_{out})} \\bigg) \\ . $$\n",
    "\n",
    "Here $U[a,b]$ is a uniform distribution in the interval $a$ to $b$ and $N(\\mu,\\sigma^2)$ is a Gaussian distribution with mean $\\mu$ and variance $\\sigma^2$.\n",
    "\n",
    "He et.al. proposes for Rectified Linear Unit activations (ReLU) the following initialization:\n",
    "\n",
    "$$w_{ij} \\sim U \\bigg[ -\\sqrt{\\frac{6}{n_{in}}}, \\, \\sqrt{\\frac{6}{n_{in}}} \\bigg]$$\n",
    "\n",
    "$$w_{ij} \\sim N \\bigg( 0, \\, \\frac{2}{n_{in}} \\bigg) \\ . $$"
   ]
  },
  {
   "cell_type": "markdown",
   "metadata": {
    "colab_type": "text",
    "id": "CRBOwPR0OMGu"
   },
   "source": [
    "## Exercise b) Glorot and He initialization\n",
    "\n",
    "Implement these initialization schemes by modifying the code given below.\n",
    "\n",
    "**NOTE:** The Gaussian is defined as $N( \\mu, \\, \\sigma^{2})$ but Numpy takes $\\sigma$ as argument.\n",
    "\n",
    "Explain briefly how you would test numerically that these initializations have the sought after property. Hint: See plots in Glorot paper."
   ]
  },
  {
   "cell_type": "code",
   "execution_count": 10,
   "metadata": {
    "colab": {},
    "colab_type": "code",
    "id": "oFUsycAJOMGv"
   },
   "outputs": [],
   "source": [
    "## Glorot\n",
    "def init_NN_glorot_Tanh(L, uniform=False):\n",
    "    \"\"\"\n",
    "    Initializer using the glorot initialization scheme\n",
    "    \"\"\"\n",
    "    weights = []\n",
    "    biases  = []\n",
    "    for i in range(len(L)-1):\n",
    "        if uniform:\n",
    "            bound = np.sqrt(6/(L[0]+L[-1])) # <- replace with proper initialization\n",
    "            weights.append(np.random.uniform(low=-bound, high=bound, size=[L[i],L[i+1]])) \n",
    "            biases.append(np.random.uniform(low=-bound, high=bound, size=[1, L[i+1]]))  \n",
    "        else:\n",
    "            std = np.sqrt(2/(L[0]+L[-1])) # <- replace with proper initialization\n",
    "            weights.append(np.random.normal(loc=0.0, scale=std, size=[L[i],L[i+1]])) \n",
    "            biases.append(np.random.normal(loc=0.0, scale=std, size=[1, L[i+1]]))       \n",
    "        \n",
    "    return (weights, biases)\n",
    "\n",
    "## He\n",
    "def init_NN_he_ReLU(L, uniform=False):\n",
    "    \"\"\"\n",
    "    Initializer using the He initialization scheme\n",
    "    \"\"\"\n",
    "    weights = []\n",
    "    biases  = []\n",
    "    for i in range(len(L)-1):\n",
    "        if uniform:\n",
    "            bound = np.sqrt(6/L[0]) # <- replace with proper initialization\n",
    "            weights.append(np.random.uniform(low=-bound, high=bound, size=[L[i],L[i+1]])) \n",
    "            biases.append(np.random.uniform(low=-bound, high=bound, size=[1, L[i+1]]))  \n",
    "        else:\n",
    "            std = np.sqrt(2/L[0]) # <- replace with proper initialization\n",
    "            weights.append(np.random.normal(loc=0.0, scale=std, size=[L[i],L[i+1]])) \n",
    "            biases.append(np.random.normal(loc=0.0, scale=std, size=[1, L[i+1]]))       \n",
    "        \n",
    "    return (weights, biases)"
   ]
  },
  {
   "cell_type": "markdown",
   "metadata": {
    "colab_type": "text",
    "id": "KOAX5IJNOMG1"
   },
   "source": [
    "# Activation functions\n",
    "\n",
    "To have a full definition of the neural network, we must define an activation function for every layer in our list L (again, exluding the first term, which is the number of input dimensions). Several activation functions have been proposed and have different characteristics. Here, we will implement the linear activation function (the identity function), the sigmoid activation function (squeeshes the outcome of each neuron into the $[0, 1]$ range), the Hyperbolic Tangent (Tanh) that squeeshes the outcome of each neuron to $[-1, 1]$ and the Rectified Linear Unit (ReLU). \n",
    "\n",
    "We will also include the derivative in the function. We need this in order to do our back-propagation algorithm. Don't rush, we will get there soon. For any neural network, save the activation functions in a list. This list must be of size len(L)-1."
   ]
  },
  {
   "cell_type": "markdown",
   "metadata": {
    "colab_type": "text",
    "id": "1qA1a3l6OMG2"
   },
   "source": [
    "## Linear activation"
   ]
  },
  {
   "cell_type": "code",
   "execution_count": 11,
   "metadata": {
    "colab": {},
    "colab_type": "code",
    "id": "sU4dI6dFOMG3"
   },
   "outputs": [],
   "source": [
    "def Linear(x, derivative=False):\n",
    "    \"\"\"\n",
    "    Computes the element-wise Linear activation function for an array x\n",
    "    inputs:\n",
    "    x: The array where the function is applied\n",
    "    derivative: if set to True will return the derivative instead of the forward pass\n",
    "    \"\"\"\n",
    "    \n",
    "    if derivative:              # Return the derivative of the function evaluated at x\n",
    "        return np.ones_like(x)\n",
    "    else:                       # Return the forward pass of the function at x\n",
    "        return x"
   ]
  },
  {
   "cell_type": "markdown",
   "metadata": {
    "colab_type": "text",
    "id": "UOiB3NUjOMG9"
   },
   "source": [
    "## Sigmoid activation"
   ]
  },
  {
   "cell_type": "code",
   "execution_count": 12,
   "metadata": {
    "colab": {},
    "colab_type": "code",
    "id": "xAtW2uptOMHA"
   },
   "outputs": [],
   "source": [
    "def Sigmoid(x, derivative=False):\n",
    "    \"\"\"\n",
    "    Computes the element-wise Sigmoid activation function for an array x\n",
    "    inputs:\n",
    "    x: The array where the function is applied\n",
    "    derivative: if set to True will return the derivative instead of the forward pass\n",
    "    \"\"\"\n",
    "    f = 1/(1+np.exp(-x))\n",
    "    \n",
    "    if derivative:              # Return the derivative of the function evaluated at x\n",
    "        return f*(1-f)\n",
    "    else:                       # Return the forward pass of the function at x\n",
    "        return f"
   ]
  },
  {
   "cell_type": "markdown",
   "metadata": {
    "colab_type": "text",
    "id": "0PKmcgn-OMHF"
   },
   "source": [
    "## Hyperbolic Tangent activation"
   ]
  },
  {
   "cell_type": "code",
   "execution_count": 13,
   "metadata": {
    "colab": {},
    "colab_type": "code",
    "id": "LJk02LPPOMHG"
   },
   "outputs": [],
   "source": [
    "def Tanh(x, derivative=False):\n",
    "    \"\"\"\n",
    "    Computes the element-wise Sigmoid activation function for an array x\n",
    "    inputs:\n",
    "    x: The array where the function is applied\n",
    "    derivative: if set to True will return the derivative instead of the forward pass\n",
    "    \"\"\"\n",
    "    f = (np.exp(x)-np.exp(-x))/(np.exp(x)+np.exp(-x))\n",
    "    \n",
    "    if derivative:              # Return the derivative of the function evaluated at x\n",
    "        return 1-f**2\n",
    "    else:                       # Return the forward pass of the function at x\n",
    "        return f"
   ]
  },
  {
   "cell_type": "markdown",
   "metadata": {
    "colab_type": "text",
    "id": "n4eRbmprOMHM"
   },
   "source": [
    "## Rectifier linear unit (ReLU)"
   ]
  },
  {
   "cell_type": "code",
   "execution_count": 14,
   "metadata": {
    "colab": {},
    "colab_type": "code",
    "id": "a7gKPoFEOMHN"
   },
   "outputs": [],
   "source": [
    "def ReLU(x, derivative=False):\n",
    "    \"\"\"\n",
    "    Computes the element-wise Rectifier Linear Unit activation function for an array x\n",
    "    inputs:\n",
    "    x: The array where the function is applied\n",
    "    derivative: if set to True will return the derivative instead of the forward pass\n",
    "    \"\"\"\n",
    "    \n",
    "    if derivative:              # Return the derivative of the function evaluated at x\n",
    "        return (x>0).astype(int)\n",
    "    else:                       # Return the forward pass of the function at x\n",
    "        return np.maximum(x, 0)"
   ]
  },
  {
   "cell_type": "markdown",
   "metadata": {
    "colab_type": "text",
    "id": "bRayA1YvOMHS"
   },
   "source": [
    "## Visualization"
   ]
  },
  {
   "cell_type": "markdown",
   "metadata": {
    "colab_type": "text",
    "id": "U_tKQ__FOMHU"
   },
   "source": [
    "Now that we have defined our activation functions we can visualize them to see what they look like:"
   ]
  },
  {
   "cell_type": "code",
   "execution_count": 15,
   "metadata": {
    "colab": {
     "base_uri": "https://localhost:8080/",
     "height": 341
    },
    "colab_type": "code",
    "id": "HkBUYFhcOMHV",
    "outputId": "690d1e82-9045-4020-97d5-1a7c33dc2a07"
   },
   "outputs": [
    {
     "data": {
      "image/png": "[encoded data removed]",
      "text/plain": [
       "<Figure size 360x360 with 1 Axes>"
      ]
     },
     "metadata": {
      "needs_background": "light",
      "tags": []
     },
     "output_type": "display_data"
    }
   ],
   "source": [
    "x = np.linspace(-6, 6, 100)\n",
    "units = {\n",
    "    \"Linear\": lambda x: Linear(x),\n",
    "    \"Sigmoid\": lambda x: Sigmoid(x),\n",
    "    \"ReLU\": lambda x: ReLU(x),\n",
    "    \"tanh\": lambda x: Tanh(x)\n",
    "}\n",
    "\n",
    "plt.figure(figsize=(5, 5))\n",
    "[plt.plot(x, unit(x), label=unit_name, lw=2) for unit_name, unit in units.items()]\n",
    "plt.legend(loc=2, fontsize=16)\n",
    "plt.title('Our activation functions', fontsize=20)\n",
    "plt.ylim([-2, 5])\n",
    "plt.xlim([-6, 6])\n",
    "plt.show()"
   ]
  },
  {
   "cell_type": "markdown",
   "metadata": {
    "colab_type": "text",
    "id": "1kMA-JE6OMHb"
   },
   "source": [
    "## Exercise c) Glorot initialization for all activation functions\n",
    "\n",
    "Implement a function by adding to the code snippet below that can take network L and list of activations function as argument and return a Glorot initialized network.  Hint: [This blog post](https://mmuratarat.github.io/2019-02-25/xavier-glorot-he-weight-init) gives a table for the activation functions we use here.\n",
    "\n",
    "Briefly explain in words how these how these values are calculated."
   ]
  },
  {
   "cell_type": "code",
   "execution_count": 16,
   "metadata": {
    "colab": {},
    "colab_type": "code",
    "id": "o_sEdU3POMHc"
   },
   "outputs": [],
   "source": [
    "def init_NN_Glorot(L, activations, uniform=False):\n",
    "    \"\"\"\n",
    "    Initializer using the glorot initialization scheme\n",
    "    \"\"\"\n",
    "    # Insert code here\n",
    "    weights = []\n",
    "    biases = []\n",
    "\n",
    "    for i, act in enumerate(activations):\n",
    "        if act == 'ReLu':\n",
    "            if uniform :\n",
    "                bound = np.sqrt(2) * np.sqrt(6/(L[i]+L[i+1]))\n",
    "                weights.append(np.random.uniform(low=-bound, high=bound, size=[L[i],L[i+1]])) \n",
    "                biases.append(np.random.uniform(low=-bound, high=bound, size=[1, L[i+1]]))\n",
    "            else:\n",
    "                std = np.sqrt(2) * np.sqrt(2/L[i])\n",
    "                weights.append(np.random.normal(loc=0.0, scale=std, size=[L[i],L[i+1]])) \n",
    "                biases.append(np.random.normal(loc=0.0, scale=std, size=[1, L[i+1]]))\n",
    "        if act == 'Tanh':\n",
    "            if uniform:\n",
    "                bound = np.sqrt(6/(L[i]+L[i+1]))\n",
    "                weights.append(np.random.uniform(low=-bound, high=bound, size=[L[i],L[i+1]])) \n",
    "                biases.append(np.random.uniform(low=-bound, high=bound, size=[1, L[i+1]]))  \n",
    "            else:\n",
    "                std = np.sqrt(2/(L[i]+L[i+1]))\n",
    "                weights.append(np.random.normal(loc=0.0, scale=std, size=[L[i],L[i+1]])) \n",
    "                biases.append(np.random.normal(loc=0.0, scale=std, size=[1, L[i+1]])) \n",
    "        if act == 'Sigmoid':\n",
    "            if uniform:\n",
    "                bound = 4 * np.sqrt(6/(L[i]+L[i+1]))\n",
    "                weights.append(np.random.uniform(low=-bound, high=bound, size=[L[i],L[i+1]])) \n",
    "                biases.append(np.random.uniform(low=-bound, high=bound, size=[1, L[i+1]]))  \n",
    "            else:\n",
    "                std = 4 * np.sqrt(2/(L[i]+L[i+1]))\n",
    "                weights.append(np.random.normal(loc=0.0, scale=std, size=[L[i],L[i+1]])) \n",
    "                biases.append(np.random.normal(loc=0.0, scale=std, size=[1, L[i+1]])) \n",
    "    \n",
    "    return weights, biases\n",
    "\n",
    "# Initializes the unit test neural network\n",
    "L_UT  = [3, 5, 1]\n",
    "ACT_UT = [ReLU, Tanh]\n",
    "NN_Glorot = init_NN_Glorot(L_UT, ACT_UT)"
   ]
  },
  {
   "cell_type": "markdown",
   "metadata": {
    "colab_type": "text",
    "id": "2s7m2kpGOMHk"
   },
   "source": [
    "# Numpy einsum (EINstein SUMmation)"
   ]
  },
  {
   "cell_type": "markdown",
   "metadata": {
    "colab_type": "text",
    "id": "wH4kOLDnOMHl"
   },
   "source": [
    "[Einsum](https://docs.scipy.org/doc/numpy/reference/generated/numpy.einsum.html) gives us the possibility to compute almost any matrix operation in a single function. You can find a good description in the link above. Here are a few examples of some important uses:\n",
    "\n",
    "**Transpose:** We can write the transpose of matrix $A$:\n",
    "\n",
    "```\n",
    "np.einsum('ij -> ji', A) \n",
    "```\n",
    "\n",
    "**Trace:** We can write the trace of matrix $A$:\n",
    "\n",
    "```\n",
    "np.einsum('ii -> ', A) \n",
    "```\n",
    "\n",
    "**Diagonal:** We can write the diagonal of matrix $A$:\n",
    "\n",
    "```\n",
    "np.einsum('ii -> i', A) \n",
    "```\n",
    " \n",
    "**Matrix product:** We can write the multiplication of matrices $A$ and $B$ as:\n",
    "\n",
    "```\n",
    "np.einsum('ij, jk -> ik', A, B)\n",
    "```\n",
    "\n",
    "Note that $j$ in both matrices $A$ and $B$ should be the same size. \n",
    "\n",
    "**Batched matrix product (or why bothering):** All of the functions we performed above are built in numpy (np.tranpose, np.trace, np.matmul), however, when you want to do more complex operations, it might become less readable and computationaly efficient. Let's introduce a three dimensional matrix $H$ with indices $b,j,k$, where the first dimension is the batch (training example) dimension. In einsum, we can then write:\n",
    "\n",
    "```\n",
    "np.einsum('ij, bjk -> bik', A, H)\n",
    "```\n",
    "\n",
    "In order to perform a batched matrix multiplication where we multiple over the second dimension in the first marix and second dimension in the second matrix. The result is a new three dimensional matrix where the first dimension is the first dimension from $H$ and second is the first dimension from $A$ and last dimension the last dimension from $H$. This is a very simple one line (and readable) way to do matrix operations that will be very useful for neural network code. \n",
    "\n",
    "\n",
    "#### _**Tips and tricks when using einsum**_\n",
    "\n",
    "At the beginning, einsum might be a bit difficult to work with. The most important thing to do when using it is keeping track of the dimensions of your input and output matrices. An easy way to keep track of these dimensions is by using some sort of naming convention. Just like in the batched matrix product above we used $b$ to denote the batch dimension. In all the functions of this notebook, we leave some convention of names of indexes for the einsum in the explanation of the functions. We hope you find them useful!\n",
    "\n",
    "There are some other useful resources to understand numpy.einsum:\n",
    "\n",
    "* [Olexa Bilaniuk's great blogpost on einsum]( https://obilaniu6266h16.wordpress.com/2016/02/04/einstein-summation-in-numpy/ )\n",
    "* [Stackoverflow answer to: Understanding NumPy's einsum]( https://stackoverflow.com/q/26089893/8899404 )\n",
    "* [Jessica Stringham post on einsum]( https://jessicastringham.net/2018/01/01/einsum/ )\n",
    "* [Slides of einstein summation from oxford]( http://www-astro.physics.ox.ac.uk/~sr/lectures/vectors/lecture10final.pdfc )"
   ]
  },
  {
   "cell_type": "markdown",
   "metadata": {
    "colab_type": "text",
    "id": "ps_YK8-nOMHl"
   },
   "source": [
    "# Forward pass\n",
    "\n",
    "The forward pass has been implemented for you. Please note how we have used einsum to perform the affine tranformation."
   ]
  },
  {
   "cell_type": "markdown",
   "metadata": {
    "colab_type": "text",
    "id": "WdB_-KrxOMHn"
   },
   "source": [
    "#### Indices convention.\n",
    "\n",
    "* $i$: input - layer $l$ dimension.\n",
    "* $o$: output - layer $l+1$ dimension.\n",
    "* $b$: batch size dimension.\n",
    "\n",
    "<u>Attention</u>! \n",
    "\n",
    "By convention we consider column vectors.\n",
    "Depending on your implementation,\n",
    "sometimes you will need to transpose the matrix/vector dimensions. "
   ]
  },
  {
   "cell_type": "markdown",
   "metadata": {
    "colab_type": "text",
    "id": "q0oiFgPrOMHq"
   },
   "source": [
    "#### Matrices, Sums and Indices\n",
    "\n",
    "<u>Remember</u>!\n",
    "\n",
    "When we compute a matrix-vector product, the inner indices need to match; if we have $W \\in R^{K \\times J}$ and $z \\in R^{I}$, we can compute the matrix-vector product only if\n",
    "   *  $J=I$, then $Wz$ or \n",
    "   *  $K=I$, then $W^Tz$.\n",
    "   \n",
    "We need to transpose the matrix in the second case. Why?. Hint: inner indices matching).\n",
    "In general these two matrix-vector products are different. So pay attention to dimensions!\n",
    "\n",
    "Similarly, when we sum a matrix and a vector over a dimension, we can sum only if the dimensions match. Given the summation:\n",
    "    $$\\sum_{i=1}^I w_{ki}~z_{i},$$\n",
    "we can sum only if $J=I$.\n",
    "\n",
    "Index Contraction: after summing over an index, the index is contracted and the output is no more a function of that index. This means that if we sum over $i$, the result will be an object without index $i$."
   ]
  },
  {
   "cell_type": "markdown",
   "metadata": {
    "colab_type": "text",
    "id": "6xJz8YXAOMHr"
   },
   "source": [
    "#### Unpacking the forward pass. \n",
    "\n",
    "For each layer we want to compute a transformation between the activated units $z$ and the layer parameters $(W, b)$. In particular such transformation is an affine one, of the form:\n",
    "$$a^{(l+1)} = W^{(l)} z^{(l)} + b^{(l)},$$\n",
    "followed by a non-linear function (activation)\n",
    "$$z^{(l+1)} = h(a^{(l+1)}).$$\n",
    "\n",
    "If $W_{oi}$ is an element in a matrix with $O$ rows and $I$ columns, \n",
    "$z_{i}$ is a value in a vector of $I$ units and \n",
    "$b_o$ is a value in a vector of $O$ biases, \n",
    "we can write the affine transformation in different ways:\n",
    "\n",
    "* *Explicit notation*: $$\\sum_{i=1}^{I} w_{oi}~z_{i} + b_o,   \\quad \\forall o=1,...O$$\n",
    "* *Matrix notation*: $$ Wz + b$$ or $$z^{T}W + b$$\n",
    "\n",
    "\n",
    "Given that we have only two indices ($i$ and $o$), after contracting $i$, the output will have dimension $O$."
   ]
  },
  {
   "cell_type": "markdown",
   "metadata": {
    "colab_type": "text",
    "id": "9xJt6R47OMHs"
   },
   "source": [
    "#### Not so fast!\n",
    "\n",
    "In Deep Learning we have another dimension: the batch size for the data $x$. \n",
    "This additional dimension is needed to pack together samples from the dataset and parallelize computations.\n",
    "\n",
    "So we typically work with matrices $W_{io}$ (notice how the indices are switched now) and vectors $z_i$ in batches, that we write $X = \\{x_{bi}\\}^{B, I}_{i=0, b=0}$ or $Z = \\{z_{bi}\\}^{B, I}_{i=0, b=0}$.\n",
    "\n",
    "Why do we use $W_{io}$ and not $W_{oi}$ as before? In principle we can use both. In practice, given that we want the batch size as first dimension, it is simpler to use $W_{io}$ to match the inner dimensions.\n",
    "As we said before, depending on your specific implementation, you will need to transpose some matrices.\n",
    "\n",
    "$x_{bi}$ means that we process in parallel a batch of $B$ samples (for example $B$=64 images, where each image is a sample) with dimensionality $I$ (for images this dimension is between $10^{3}$ - $10^{6}$). The batch size cannot be too large (Why?) and shouldn't be too small (Why?)."
   ]
  },
  {
   "cell_type": "markdown",
   "metadata": {
    "colab_type": "text",
    "id": "q2ZcRoFXqli8"
   },
   "source": [
    "When the batch size is too large, the method becomes gradient descent. If the batch is too small, it becomes as stochastic gradient descent.\n",
    "\n"
   ]
  },
  {
   "cell_type": "markdown",
   "metadata": {
    "colab_type": "text",
    "id": "3tjM12sdOMHt"
   },
   "source": [
    "#### einsum\n",
    "\n",
    "If you try to write in numpy a matrix-matrix product or a matrix-tensor product, you will notice that things get coumbersome fast. Additionally, your data could be a structured object with 3/4/5 dimensions ($x_{bijk}$). It's easy to get confused and make some mistakes, in particular when some of such dimensions have the same numerical value but different meaning (imagine a batch of 100 samples with dimension 100).\n",
    "\n",
    "The **einsum** function is explicitly summing over the dimension of choice taking care of the details related to batching in an efficient way. There is a striking similarity between the einsum notation and the explicit notation we have seen before. \n",
    "\n",
    "In the simple example we are working on, using einsum, matmul, or summing over an index is basically the same. \n",
    "For more complex problems in computer vision, natural language processing, generative modeling, etc. einsum helps dealing with the details."
   ]
  },
  {
   "cell_type": "markdown",
   "metadata": {
    "colab_type": "text",
    "id": "va80FIOUOMHt"
   },
   "source": [
    "#### Putting it all together.\n",
    "\n",
    "Ok! Here we are. Let's write again the explicit form for the batch case. As before, $W \\in R^{I \\times O}$ (or $W^{T} \\in R^{O \\times I}$) is a matrix, $z_{bi}$ is a matrix (or a collection of $b$ row vectors), and $b_o$ is a vector (in practice the bias vector will be broadcasted for all the samples in a batch).\n",
    "\n",
    "* *Explicit notation*: \n",
    "$$\\sum_{i=1}^I z_{bi}~w_{io} + b_{o}, \\quad \\forall o, \\quad \\forall b$$\n",
    "Before, contracting $i$, we ended up with an object of dimension $o$. Now we end up with an object of dimensions $b~\\times~o$.\n",
    "\n",
    "\n",
    "* *Matrix notation*:\n",
    "$$ Z W + b $$"
   ]
  },
  {
   "cell_type": "code",
   "execution_count": 17,
   "metadata": {
    "colab": {},
    "colab_type": "code",
    "id": "zM_0r9jqOMHu"
   },
   "outputs": [],
   "source": [
    "def forward_pass(x, NN, activations):\n",
    "    \"\"\"\n",
    "    This function performs a forward pass. \n",
    "    It saves lists for both affine transforms of units (a) and activated units (z)\n",
    "    Input:\n",
    "    x: The input of the network             (np.array of shape: (batch_size, number_of_features))\n",
    "    NN: The initialized neural network      (tuple of list of matrices)\n",
    "    activations: the activations to be used (list of functions, same len as NN)\n",
    "\n",
    "    Output:\n",
    "    a: A list of affine transformations, that is, all x*w+b.\n",
    "    z: A list of activated units (ALL activated units including input x and output y).\n",
    "    \n",
    "    Shapes for the einsum:\n",
    "    b: batch size\n",
    "    i: size of the input hidden layer (layer l)\n",
    "    o: size of the output (layer l+1)\n",
    "    \"\"\"\n",
    "    z = [x]\n",
    "    a = []\n",
    "    \n",
    "    for l in range(len(NN[0])):\n",
    "        \n",
    "        # layer l parameters (W, bias)\n",
    "        W = NN[0][l]\n",
    "        bias = NN[1][l]\n",
    "        \n",
    "        # \\sum_{i} z^{l}_{bi} W^{l}_{io} in explicit notation\n",
    "        # z * W                          in matrix notation\n",
    "        Wz = np.einsum('bi, io -> bo', z[l], W)\n",
    "        \n",
    "        # z * W + bias\n",
    "        Wzb = Wz + bias\n",
    "        \n",
    "        a.append(Wzb)                  # The affine transform z*w+bias\n",
    "        z.append(activations[l](a[l])) # The non-linearity    \n",
    "    \n",
    "    return a, z"
   ]
  },
  {
   "cell_type": "markdown",
   "metadata": {
    "colab_type": "text",
    "id": "qEIV6NFwOMHz"
   },
   "source": [
    "# Forward pass unit test\n",
    "\n",
    "Below is a piece of code that takes a very particular setting of the network and inputs and test whether it gives the expected results."
   ]
  },
  {
   "cell_type": "code",
   "execution_count": 18,
   "metadata": {
    "colab": {},
    "colab_type": "code",
    "id": "rlJ-qr-BOMHz"
   },
   "outputs": [],
   "source": [
    "ACT_F_UT = [Linear, Linear]\n",
    "test_a, test_z = forward_pass(np.array([[1,1,1]]), NN_UT, ACT_F_UT) # input has shape (1, 3) 1 batch, 3 features\n",
    "\n",
    "# Checking shapes consistency\n",
    "assert np.all(test_z[0]==np.array([1,1,1])) # Are the input vector and the first units the same?\n",
    "assert np.all(test_z[1]==test_a[0])         # Are the first affine transformations and hidden units the same?\n",
    "assert np.all(test_z[2]==test_a[1])         # Are the output units and the affine transformations the same?\n",
    "\n",
    "# Checking correctnes of values\n",
    "# First layer, calculate np.sum(np.array([1,1,1])*np.array([1,1,1]))+1 = 4\n",
    "assert np.all(test_z[1] == 4.)\n",
    "# Second layer, calculate np.sum(np.array([4,4,4,4,4])*np.array([1,1,1,1,1]))+1 = 21\n",
    "assert np.all(test_z[2] == 21.)"
   ]
  },
  {
   "cell_type": "markdown",
   "metadata": {
    "colab_type": "text",
    "id": "TBg_QuKROMH2"
   },
   "source": [
    "# Loss functions"
   ]
  },
  {
   "cell_type": "markdown",
   "metadata": {
    "colab_type": "text",
    "id": "2x2D2lduOMH3"
   },
   "source": [
    "In order to perform a backward pass we need to define a loss function and its derivative with respect to the output of the neural network $y$"
   ]
  },
  {
   "cell_type": "code",
   "execution_count": 19,
   "metadata": {
    "colab": {},
    "colab_type": "code",
    "id": "gmFiMIobOMH3"
   },
   "outputs": [],
   "source": [
    "def squared_error(t, y, derivative=False):\n",
    "    \"\"\"\n",
    "    Computes the squared error function and its derivative \n",
    "    Input:\n",
    "    t:      target (expected output)          (np.array)\n",
    "    y:      output from forward pass (np.array, must be the same shape as t)\n",
    "    derivative: whether to return the derivative with respect to y or return the loss (boolean)\n",
    "    \"\"\"\n",
    "    if np.shape(t)!=np.shape(y):\n",
    "        print(\"t and y have different shapes\")\n",
    "    if derivative: # Return the derivative of the function\n",
    "        return (y-t)\n",
    "    else:\n",
    "        return 0.5*(y-t)**2"
   ]
  },
  {
   "cell_type": "markdown",
   "metadata": {
    "colab_type": "text",
    "id": "PYn98NuLOMH7"
   },
   "source": [
    "## Exercise d) Implement cross entropy loss\n",
    "\n",
    "Insert code below to implement cross-entropy loss for general dimensionality of $t$."
   ]
  },
  {
   "cell_type": "code",
   "execution_count": 20,
   "metadata": {
    "colab": {},
    "colab_type": "code",
    "id": "pcnwAHggOMH8"
   },
   "outputs": [],
   "source": [
    "def cross_entropy_loss(t, y, derivative=False):\n",
    "    \"\"\"\n",
    "    Computes the cross entropy loss function and its derivative \n",
    "    Input:\n",
    "    t:      target (expected output)          (np.array)\n",
    "    y:      output from forward pass (np.array, must be the same shape as t)\n",
    "    derivative: whether to return the derivative with respect to y or return the loss (boolean)\n",
    "    \"\"\"\n",
    "    ## Insert code here\n",
    "    if np.shape(t)!=np.shape(y):\n",
    "        print(\"t and y have different shapes\")\n",
    "    if derivative: # Return the derivative of the function\n",
    "        return (y-t)\n",
    "    else:\n",
    "        return -t*np.log(np.exp(y)/np.sum(np.exp(y)))"
   ]
  },
  {
   "cell_type": "markdown",
   "metadata": {
    "colab_type": "text",
    "id": "3-vZqRCXOMH-"
   },
   "source": [
    "# Backward pass "
   ]
  },
  {
   "cell_type": "markdown",
   "metadata": {
    "colab_type": "text",
    "id": "GSppBVWjOMH_"
   },
   "source": [
    "## Exercise e) Complete code for backward pass\n",
    "\n",
    "Below is a implementation of the backward pass with some lines removed. Insert the missing lines."
   ]
  },
  {
   "cell_type": "markdown",
   "metadata": {
    "colab_type": "text",
    "id": "DnDqj81wOMIB"
   },
   "source": [
    "#### Useful resources.\n",
    "\n",
    "Math intro:\n",
    "* https://www.deeplearningbook.org/contents/mlp.html\n",
    "* http://neuralnetworksanddeeplearning.com/chap2.html\n",
    "* http://pandamatak.com/people/anand/771/html/node37.html\n",
    "\n",
    "Code intro:\n",
    "* https://cs231n.github.io/neural-networks-case-study/#grad"
   ]
  },
  {
   "cell_type": "markdown",
   "metadata": {
    "colab_type": "text",
    "id": "5tQQfOKqOMIB"
   },
   "source": [
    "<u>Attention!</u>\n",
    "\n",
    "This is a difficult topic. It's normal to be confused and not immediately grasp the complete algorithm. Just work your way through it writing down the equations, writing down a small network explicitly, and thinking about the model."
   ]
  },
  {
   "cell_type": "markdown",
   "metadata": {
    "colab_type": "text",
    "id": "LQzrRD4oOMIC"
   },
   "source": [
    "#### Unpacking the backward pass.\n",
    "\n",
    "Before we learned how to **forward** data input $X$ in a parametric model $W$ to obtain a final output $y$ and build a loss function $E(t, y)$ that measures how far our prediction $y$ is from the target $t$.\n",
    "For a generic FFN at layer $l$ we can write:\n",
    "\n",
    "$$a^{(l+1)} = W^{(l)} z^{(l)} + b^{(l)},$$\n",
    "$$z^{(l+1)} = h(a^{(l+1)}),$$\n",
    "where $z^{(0)}=x$ and $z^{(L)} = y$.\n"
   ]
  },
  {
   "cell_type": "markdown",
   "metadata": {
    "colab_type": "text",
    "id": "hab_qCw4OMIC"
   },
   "source": [
    "#### Backpropagation.\n",
    "\n",
    "As the name suggests, the backpropagation algorithm is a procedure to adjust the model parameters $(W, b)$ \n",
    "<u>*propagating backward a measure of error*</u> such that our prediction $y$ is as close as possible to the target $t$.\n",
    "\n",
    "The proxy we use to measure closeness between $y$ and $t$ is a loss function $E(t, y)$. \n",
    "\n",
    "<u>Attention!</u>\n",
    "This loss is a function of the model parameters through $y = g(x, w, b)$. \n",
    "When we optimize wrt. the model parameters $(W, b)$ we can write the loss as a function of such parameters $E(w, b)$ because $y=g(w, b)$ and $t$ and $x$ are fixed input and output.\n",
    "\n",
    "In practice, backpropagation is a gradient based optimization strategy. \n",
    "Our goal is to compute all the partial derivatives $\\dfrac{\\partial E(w, b)}{\\partial w^l_{ji}}$ and $\\dfrac{\\partial E(w, b)}{\\partial b^l_{j}}$ for each layer $l$ and each unit $i$ and $j$ in the network.\n",
    "\n",
    "Computing the partial derivative wrt. the parameters directly is not easy. \n",
    "The loss depends in a non-linear and hierarchical way from the parameters. What backpropagation give us is an efficient and systematic way to compute the partial derivative as a function of intermediate quantities. The most important of such quantities is the error $\\delta_l$."
   ]
  },
  {
   "cell_type": "markdown",
   "metadata": {
    "colab_type": "text",
    "id": "JPLWXRP-OMIE"
   },
   "source": [
    "#### Error propagation - final layer $L$.\n",
    "\n",
    "Consider the final layer $L$.\n",
    "The partial derivatives can be written as:\n",
    "\n",
    "$$\\dfrac{\\partial E(w, b)}{\\partial w^{L}_{ji}} =\n",
    "\\dfrac{\\partial E}{\\partial z^{L}_j}\n",
    "\\dfrac{\\partial z^{L}_j}{\\partial w^{L}_{ji}} = \n",
    "\\left(\n",
    "\\color{blue}{\\dfrac{\\partial E}{\\partial z^{L}_j}\n",
    "\\dfrac{\\partial z^{L}_j}{\\partial a^{L}_j}}\n",
    "\\right)\n",
    "\\dfrac{\\partial a^{L}_j}{\\partial w^{L}_{ji}} = \n",
    "\\color{blue}{\\delta^{L}_j}~\\dfrac{\\partial a^{L}_j}{\\partial w^{L}_{ji}} = \n",
    "\\delta^{L}_j~z^{L-1}_{i},\n",
    "$$\n",
    "\n",
    "where\n",
    "$a^{L}_j = \\sum_i w^{L}_{ji}~z^{L-1}_i + b^{L}_j$ and $z^{L}_j = h(a^{L}_j).$ \n",
    "\n",
    "$\\delta^{L}_j = \\partial E / \\partial a^{L}_j$ is the error at layer $L$ for unit $j$ and it is what we want to backpropagate. \n",
    "You see that it can be easily computed: \n",
    "$ \\partial E / \\partial z^{L}_j$\n",
    "is just the partial derivative of the loss wrt. to the activation.\n",
    "$ \\partial z^{L}_j / \\partial a^{L}_j$\n",
    "is the partial derivative of the activation wrt. the output of the affine transformation.\n",
    "You already know how to compute these derivative (How?) and consequently you know $\\delta^{L}_j$.\n",
    "\n",
    "For the biases in the final layer the computation is basically the same:\n",
    "\n",
    "$$\\dfrac{\\partial E(w, b)}{\\partial b_{j}} =\n",
    "\\left(\\dfrac{\\partial E}{\\partial z_j}\n",
    "\\dfrac{\\partial z_j}{\\partial a_j}\\right)\n",
    "\\dfrac{\\partial a_j}{\\partial b_{j}} = \n",
    "\\delta_j~\\dfrac{\\partial a_j}{\\partial b_{j}} = \n",
    "\\delta_j.\n",
    "$$\n",
    "\n",
    "You can see that $\\delta_j$ is the same we computed, and the only thing that changes is the partial derivative wrt $w_{ji}$ and $b_j$."
   ]
  },
  {
   "cell_type": "markdown",
   "metadata": {
    "colab_type": "text",
    "id": "TsS9kq1MOMIF"
   },
   "source": [
    "#### Error propagation - layer $l$.\n",
    "\n",
    "For a generic layer $l$ we want to derive a recursive formula for the error $\\delta^{l}_j$.\n",
    "In particular, if we at layer $l$ and unit $j$, we consider the $k$ downstream units influenced by $j$:\n",
    "\n",
    "$$\\dfrac{\\partial E(w, b)}{\\partial w^l_{ji}} =\n",
    "\\sum_k\n",
    "\\dfrac{\\partial E}{\\partial a^{l+1}_k}\n",
    "\\dfrac{\\partial a^{l+1}_k}{\\partial w^l_{ji}} =\n",
    "\\left(\n",
    "\\color{green}{\\sum_k\n",
    "\\dfrac{\\partial E}{\\partial a^{l+1}_k}\n",
    "\\dfrac{\\partial a^{l+1}_k}{\\partial z^l_j}\n",
    "\\dfrac{\\partial z^l_j}{\\partial a^l_j}}\n",
    "\\right)\n",
    "\\dfrac{\\partial a^l_j}{\\partial w^l_{ji}} = \n",
    "\\color{green}{\\delta^{l}_j}~\\dfrac{\\partial a^{l}_j}{\\partial w^{l}_{ji}} = \n",
    "\\delta^l_j~z^{l-1}_{i},\n",
    "$$\n",
    "\n",
    "where $a^{l}_j = \\sum_i w^{l}_{ji}~z^{l-1}_i + b^{l}_j$ and $z^{l}_j = h(a^{l}_j).$\n",
    "\n",
    "Notice how the terms in $\\delta^{l}_j$ are easy to compute: $\\partial E  / \\partial a^{l+1}_k = \\delta^{l+1}_k$ is known (we start from the last layer). $\\partial a^{l+1}_k / \\partial z^{l}_j$ is something new, but we can easily compute this term too. \n",
    "We notice that:\n",
    "$$a^{l+1}_k = \\sum_j w^{l+1}_{kj} z^{l}_{j} + b_k,$$\n",
    "and $\\partial a^{l+1}_k / \\partial z^{l}_j = w^{l+1}_{kj}$. \n",
    "Finally $\\partial z^l_j / \\partial a^l_j$ is just the partial derivative of the activation (as before).\n",
    "\n",
    "We can now write the general recursive form for error propagation:\n",
    "\n",
    "$$\\delta^{l}_j = \\left(\\sum_k \\delta^{l+1}_k w^{l+1}_{kj}\\right) \\dfrac{\\partial z^l_j}{\\partial a^l_j}$$"
   ]
  },
  {
   "cell_type": "markdown",
   "metadata": {
    "colab_type": "text",
    "id": "-D9iSHieOMIF"
   },
   "source": [
    "#### Putting it all together.\n",
    "\n",
    "Here we are! Everything boils down to recursively finding the errors $\\delta^{l}$ starting from the last layer $L$ backward. When you have $\\delta^{l}$, you just need a final multiplication with activations to find the partial derivative wrt the parameters for the layer.\n",
    "Let's write the steps in matrix form:\n",
    "\n",
    "* Errror for the last layer $L$:\n",
    "$$\\delta^{L} = \\nabla_z E \\circ h'(a^{L}).$$\n",
    "* Error for any layer $l$:\n",
    "$$\\delta^l = ((W^{l+1})^{T} \\delta^{l+1}) \\circ h'(a^{l}).$$\n",
    "* Partial derivative cost for $w$: \n",
    "$$\\dfrac{\\partial E}{\\partial w^{l}} = \\delta^{l} z^{l-1}.$$\n",
    "* Partial derivative cost for $b$:\n",
    "$$\\dfrac{\\partial E}{\\partial b^{l}} = \\delta^{l}.$$"
   ]
  },
  {
   "cell_type": "code",
   "execution_count": 21,
   "metadata": {
    "colab": {},
    "colab_type": "code",
    "id": "HR0uqmZbOMIF"
   },
   "outputs": [],
   "source": [
    "def backward_pass(x, t, y, z, a, NN, activations, loss_f):\n",
    "    \"\"\"\n",
    "    This function performs a backward pass ITERATIVELY. It saves lists all of the derivatives in the process\n",
    "    \n",
    "    Input:\n",
    "    x:           The input used for the batch                (np.array)\n",
    "    t:           The observed targets                        (np.array, the first dimension must be the same to x)\n",
    "    y:           The output of the forward_pass of NN for x  (np.array, must have the same shape as t)\n",
    "    \n",
    "    a:           The affine transforms from the forward_pass (np.array) # a^{l+1}= W^{l} z^{l} + b^{l}\n",
    "    z:           The activated units from the forward_pass (np.array)   # z^{l+1}=f(a^{l+1})\n",
    "    \n",
    "    activations: The activations to be used                  (list of functions)\n",
    "    loss_f:        The loss function to be used                (one function)\n",
    "    \n",
    "    Output:\n",
    "    g_w: A list of gradients for every weight\n",
    "    g_b: A list of gradients for every bias\n",
    "    \n",
    "    Shapes for the einsum:\n",
    "    b: batch size\n",
    "    i: size of the input hidden layer (layer l)\n",
    "    o: size of the output (layer l+1)\n",
    "    \"\"\"\n",
    "    \n",
    "    BS = x.shape[0] # Implied batch shape \n",
    "    \n",
    "    # Process the last layer - Reference: Error propagation - final layer $L$.\n",
    "    \n",
    "    # First, let's compute the list of derivatives of z with respect to a\n",
    "    # these derivative are standardized and automatically handled by the activations functions defined above.\n",
    "    d_a = []\n",
    "    # dz/da\n",
    "    for i in range(len(activations)):\n",
    "        d_za = activations[i](a[i], derivative=True)\n",
    "        d_a.append(d_za)\n",
    "    \n",
    "    # Second, let's compute the derivative of the loss function with respect to z\n",
    "    # targets\n",
    "    t = t.reshape(BS, -1)\n",
    "    \n",
    "    # derivative loss wrt y\n",
    "    # dE/dy  where y=z[-1]\n",
    "    d_loss = loss_f(t, z[-1], derivative=True)      # <- Insert correct expression here\n",
    "    \n",
    "     \n",
    "    # Third, let's compute the derivative of the biases and the weights\n",
    "    g_w   = [] # List to save the gradient w.r.t. the weights\n",
    "    g_b   = [] # List to save the gradients w.r.t. the biases\n",
    "    \n",
    "    # delta : measure of error in the final layer L\n",
    "    # delta = dE/dy * dy/da\n",
    "    delta = np.einsum('bo, bo -> bo', d_loss, d_a[-1]) # loss shape: (b, o); pre-activation units shape: (b, o) hadamard product\n",
    "    \n",
    "    # affine transformation\n",
    "    # a = W z + b\n",
    "    \n",
    "    # dE/dw = (dE/dy * dy/da) da/dw = delta * da/dw\n",
    "    # notice how the gradients wrt the weights have dimension (batch, input_dim, output_dim)\n",
    "    g_w.append(np.mean(np.einsum('bo, bi -> bio', delta, z[-2]), axis=0)) # delta shape: (b, o), activations shape: (b, h)\n",
    "    \n",
    "    # dE/db = (dE/dy * dy/da) da/db = delta * da/db\n",
    "    g_b.append(np.mean(delta, axis=0))\n",
    "    \n",
    "    \n",
    "    # Process all the other layers - Reference: Error propagation - layer $l$\n",
    "    for l in range(1, len(NN[0])):\n",
    "        \n",
    "        W = NN[0][-l] \n",
    "        # dE/dz^{l} = dE/da^{l+1} * da^{l+1}/dz^{l} = delta^{l+1} * w^{l+1}\n",
    "        d_E_d_z = np.einsum('bo, io -> bi', delta, W)          # Derivative of the loss with respect to an activated layer d_E_d_z. \n",
    "                                                               #  delta shape: as above; weights shape: (i, o)\n",
    "                                                               # Delta: d_E_d_z (element-wise mult) derivative of the activation layers\n",
    "                                                               #  delta shape: as above; d_z shape: (b, i)  \n",
    "        \n",
    "        # delta : measure of error for a generic layer l \n",
    "        # dE/dz * dz/da \n",
    "        delta = np.einsum('bo, bo -> bo', d_E_d_z, d_a[-l-1])      # <- Insert correct expression here \n",
    "        \n",
    "        # affine transformation\n",
    "        # a = Wz + b\n",
    "        \n",
    "        # dE/dw = delta * da/dw\n",
    "        g_w.append(np.mean(np.einsum('bo, bi -> bio', delta, z[-l-2]), axis=0)) # Derivative of cost with respect to weights in layer l:\n",
    "        \n",
    "        # dE/db = delta                                                                 # delta shape: as above; activations of l-1 shape: (b, i)\n",
    "        g_b.append(np.mean(delta, axis=0))\n",
    "        \n",
    "    return g_b[::-1], g_w[::-1]"
   ]
  },
  {
   "cell_type": "markdown",
   "metadata": {
    "colab_type": "text",
    "id": "tkHrt995OMIJ"
   },
   "source": [
    "# Backward pass unit test"
   ]
  },
  {
   "cell_type": "markdown",
   "metadata": {
    "colab_type": "text",
    "id": "1_ZdFVoCOMIK"
   },
   "source": [
    "We are going to perform the unit test of the backward pass with a finite difference estimation, make sure to read the description of the function and that you understand it well:"
   ]
  },
  {
   "cell_type": "markdown",
   "metadata": {
    "colab_type": "text",
    "id": "XoVzHK7hOMIL"
   },
   "source": [
    "## Exercise f) Test correctness of derivatives with finite difference method\n",
    "\n",
    "Write a small function that uses [the finite difference method](https://en.wikipedia.org/wiki/Finite_difference_method) to test whether the backpropation implementation is working. In short we will use\n",
    "$$\n",
    "\\frac{\\partial E(w)}{\\partial w_{ij}^{(l)}} \\approx \\frac{E(v)-E(w)}{dw}\n",
    "$$\n",
    "for $dw \\ll 1$ and $v$ is the same network as $w$ apart from $v_{ij}^{(l)} = w_{ij}^{(l)} + dw$.\n",
    "\n",
    "As arguments the function should take: some data $x$ and $t$ as in the example above, the network including activations, the indices $i$, $j$, $l$ of the weight we investigate and $dw$ and return the right hand side of the expression above.\n",
    "\n",
    "_Insert your code in the cell below._\n"
   ]
  },
  {
   "cell_type": "code",
   "execution_count": 22,
   "metadata": {
    "colab": {},
    "colab_type": "code",
    "id": "wZ5931G8OMIL"
   },
   "outputs": [],
   "source": [
    "# Insert your finite difference code here\n",
    "def finite_difference(x, t, NN, activations, indexes, dw=1e-10):\n",
    "    \"\"\"\n",
    "    This function compute the finite difference between\n",
    "    \n",
    "    Input:\n",
    "    x:           The input used for the batch                (np.array)\n",
    "    t:           The observed targets                        (np.array, the first dimension must be the same to x)\n",
    "    \n",
    "    NN: The initialized neural network                       (tuple of list of matrices)\n",
    "    activations: The activations to be used                  (list of functions)\n",
    "    \n",
    "    indexes: the indexes of the parameter we want to perturb (tuple of integers)\n",
    "             v^{l}_{ji} = w^{l}_{ji} + dw\n",
    "    \n",
    "    dw: the size of the difference                           (float)\n",
    "    \n",
    "    Output:\n",
    "    finite_difference: the magnitude of the difference       (float) \n",
    "    \"\"\"\n",
    "    \n",
    "    from copy import deepcopy\n",
    "    # l layer\n",
    "    # i input dim\n",
    "    # j output dim\n",
    "    \n",
    "    (l, i, j) = indexes\n",
    "    \n",
    "    _, zv = forward_pass(x, NN, activations)\n",
    "    Ev = squared_error(t, zv[-1])\n",
    "    \n",
    "    NNw = deepcopy(NN)\n",
    "    NNw[l][0][i, j] = NN[l][0][i, j] + dw # <- Insert correct expression \n",
    "    \n",
    "    _, zw = forward_pass(x, NNw, activations)           # <- Insert correct expression\n",
    "    Ew = squared_error(t, zw[-1])               # <- Insert correct expression\n",
    "    \n",
    "    finite_difference = (Ev - Ew) / dw\n",
    "    \n",
    "    return finite_difference"
   ]
  },
  {
   "cell_type": "markdown",
   "metadata": {
    "colab_type": "text",
    "id": "JQTYmP8BOMIO"
   },
   "source": [
    "Once you have implemented the function you can compare this number with the left hand side computed by the implementation above.\n",
    "\n",
    "Try for different parameters and different values of $dw$. Scan over a range of $dw$ values. Why does the method break down for really small $dw$?\n",
    "\n",
    "<!--_Insert your written answer here._-->\n",
    "\n",
    "_For really small $dw$, the $E(v)$ and $E(w)$ would not have difference, i.e. $E(v)-E(w)=0$. In this case, the finite difference is 0._\n",
    "\n",
    "Finite differences gives us gradients without computing gradients explicitly. Why don't we use it in practice then?\n",
    "\n",
    "<!--_Insert your written answer here._-->\n",
    "\n",
    "_The finite difference is an approximation of the derivative. It is a scalar, but the gradient descent shows the direction of optimization._"
   ]
  },
  {
   "cell_type": "markdown",
   "metadata": {
    "colab_type": "text",
    "id": "rdSGC7YWOMIO"
   },
   "source": [
    "Below is reference code that computes the finite differences for all parameters."
   ]
  },
  {
   "cell_type": "code",
   "execution_count": 22,
   "metadata": {
    "colab": {},
    "colab_type": "code",
    "id": "DDUHBmX6OMIO"
   },
   "outputs": [],
   "source": [
    "def finite_diff_grad(x, NN, ACT_F, epsilon=None):\n",
    "    \"\"\"\n",
    "    Finite differences gradient estimator: https://en.wikipedia.org/wiki/Finite_difference_method\n",
    "    The idea is that we can approximate the derivative of any function (f) with respect to any argument (w) by evaluating the function at (w+e)\n",
    "    where (e) is a small number and then computing the following opertion (f(w+e)-f(w))/e . Note that we would need N+1 evaluations of\n",
    "    the function in order to compute the whole Jacobian (first derivatives matrix) where N is the number of arguments. The \"+1\" comes from the\n",
    "    fact that we also need to evaluate the function at the current values of the argument.\n",
    "    \n",
    "    Input:\n",
    "    x:       The point at which we want to evaluate the gradient\n",
    "    NN:      The tuple that contains the neural network\n",
    "    ACT_F:   The activation functions in order to perform the forward pass\n",
    "    epsilon: The size of the difference\n",
    "    \n",
    "    Output:\n",
    "    Two lists, the first one contains the gradients with respect to the weights, the second with respect to the biases\n",
    "    \"\"\"\n",
    "    from copy import deepcopy\n",
    "    \n",
    "    if epsilon == None:\n",
    "        epsilon = np.finfo(np.float32).eps # Machine epsilon for float 32\n",
    "        \n",
    "    grads = deepcopy(NN)               # Copy of structure of the weights and biases to save the gradients                        \n",
    "    _ , test_z = forward_pass(x, NN_UT, ACT_F_UT) # We evaluate f(x)\n",
    "    \n",
    "    for e in range(len(NN)):                       # Iterator over elements of the NN:       weights or biases\n",
    "        for h in range(len(NN[e])):                # Iterator over the layer of the element: layer number\n",
    "            for r in range(NN[e][h].shape[0]):     # Iterator over                           row number\n",
    "                for c in range(NN[e][h].shape[1]): # Iterator over                           column number \n",
    "                    NN_copy             = deepcopy(NN)    \n",
    "                    NN_copy[e][h][r,c] += epsilon\n",
    "                    _, test_z_eps       = forward_pass(x, NN_copy, ACT_F)     # We evaluate f(x+eps)\n",
    "                    grads[e][h][r,c]    = (test_z_eps[-1]-test_z[-1])/epsilon # Definition of finite differences gradient\n",
    "    \n",
    "    return grads[0], grads[1]"
   ]
  },
  {
   "cell_type": "code",
   "execution_count": 23,
   "metadata": {
    "colab": {},
    "colab_type": "code",
    "id": "eSwS5NPYOMIS",
    "scrolled": true
   },
   "outputs": [],
   "source": [
    "### Unit test \n",
    "\n",
    "## First lest's compute the backward pass using our own function\n",
    "# Forward pass\n",
    "test_a, test_z = forward_pass(np.array([[1,1,1]]), NN_UT, ACT_F_UT)\n",
    "# Backward pass\n",
    "test_g_b, test_g_w = backward_pass(np.array([[1,1,1]]), np.array([20]), test_a[-1], test_z, test_a, NN_UT, ACT_F_UT, squared_error)\n",
    "# Estimation by finite differences\n",
    "test_fdg_w, test_fdg_b = finite_diff_grad(np.array([[1,1,1]]), NN_UT, ACT_F_UT, epsilon=1e-7)"
   ]
  },
  {
   "cell_type": "code",
   "execution_count": 24,
   "metadata": {
    "colab": {},
    "colab_type": "code",
    "id": "6MFMSMAdOMIV"
   },
   "outputs": [],
   "source": [
    "# Test whether the weights and biases are all equal as the ones we estimated using back propagation\n",
    "for l in range(len(test_g_w)):\n",
    "    assert np.allclose(test_fdg_w[l], test_g_w[l])\n",
    "    assert np.allclose(test_fdg_b[l], test_g_b[l])"
   ]
  },
  {
   "cell_type": "markdown",
   "metadata": {
    "colab_type": "text",
    "id": "DbCWU3mfOMIX"
   },
   "source": [
    "# Training and validation\n",
    "\n",
    "We are ready to train some neural networks! Below we give some example initializations and a training loop. Try it out. "
   ]
  },
  {
   "cell_type": "code",
   "execution_count": 72,
   "metadata": {
    "colab": {},
    "colab_type": "code",
    "id": "pyYmYFj-OMIX"
   },
   "outputs": [],
   "source": [
    "# Initialize an arbitrary neural network\n",
    "#L  = [3, 16, 1]\n",
    "L  = [1, 8, 1]\n",
    "NN = init_NN(L)\n",
    "#NN = init_NN_glorot(L, uniform=True)\n",
    "#NN = init_NN_he_ReLU(L, uniform=True)\n",
    "\n",
    "ACT_F = [ReLU, Linear]\n",
    "#ACT_F = [Tanh, Linear]\n",
    "\n",
    "# Recommended hyper-parameters for 1-D: \n",
    "# L  = [1, 8, 1]\n",
    "# EPOCHS = 10000\n",
    "# BATCH_SIZE = 128 \n",
    "# LEARN_R = 2.5e-1 for Tanh and LEARN_R = 1e-1 for ReLU\n",
    "\n",
    "# Recommended hyper-parameters for 3-D: \n",
    "# L  = [3, 16, 1] \n",
    "# EPOCHS = 10000\n",
    "# BATCH_SIZE = 128 \n",
    "# LEARN_R = 5e-2 for ReLU and LEARN_R = 1e-1 for Tanh\n",
    "\n",
    "### Notice that, when we switch from tanh to relu activation, we decrease the learning rate. This is due the stability of the gradients \n",
    "## of the activation functions."
   ]
  },
  {
   "cell_type": "code",
   "execution_count": 66,
   "metadata": {
    "colab": {},
    "colab_type": "code",
    "id": "bxMA6JQbOMIb"
   },
   "outputs": [],
   "source": [
    "# Initialize training hyperparameters\n",
    "EPOCHS = 20000\n",
    "BATCH_SIZE = 128 \n",
    "LEARN_R = 1e-2 "
   ]
  },
  {
   "cell_type": "code",
   "execution_count": 67,
   "metadata": {
    "colab": {
     "base_uri": "https://localhost:8080/",
     "height": 738
    },
    "colab_type": "code",
    "id": "opcoB200OMIf",
    "outputId": "7fd5dfd8-5121-47d3-db17-0e49cf870715",
    "scrolled": true
   },
   "outputs": [
    {
     "name": "stdout",
     "output_type": "stream",
     "text": [
      "   0 ( 0.00%) Train loss: 174.966 \t Validation loss: 144.451\n",
      " 500 ( 2.50%) Train loss: 0.040 \t Validation loss: 0.041\n",
      "1000 ( 5.00%) Train loss: 0.039 \t Validation loss: 0.041\n",
      "1500 ( 7.50%) Train loss: 0.037 \t Validation loss: 0.040\n",
      "2000 (10.00%) Train loss: 0.037 \t Validation loss: 0.040\n",
      "2500 (12.50%) Train loss: 0.037 \t Validation loss: 0.041\n",
      "3000 (15.00%) Train loss: 0.036 \t Validation loss: 0.040\n",
      "3500 (17.50%) Train loss: 0.036 \t Validation loss: 0.040\n",
      "4000 (20.00%) Train loss: 0.035 \t Validation loss: 0.040\n",
      "4500 (22.50%) Train loss: 0.038 \t Validation loss: 0.043\n",
      "5000 (25.00%) Train loss: 0.037 \t Validation loss: 0.044\n",
      "5500 (27.50%) Train loss: 0.035 \t Validation loss: 0.042\n",
      "6000 (30.00%) Train loss: 0.035 \t Validation loss: 0.041\n",
      "6500 (32.50%) Train loss: 0.035 \t Validation loss: 0.042\n",
      "7000 (35.00%) Train loss: 0.035 \t Validation loss: 0.041\n",
      "7500 (37.50%) Train loss: 0.034 \t Validation loss: 0.040\n",
      "8000 (40.00%) Train loss: 0.035 \t Validation loss: 0.040\n",
      "8500 (42.50%) Train loss: 0.034 \t Validation loss: 0.039\n",
      "9000 (45.00%) Train loss: 0.035 \t Validation loss: 0.039\n",
      "9500 (47.50%) Train loss: 0.034 \t Validation loss: 0.040\n",
      "10000 (50.00%) Train loss: 0.034 \t Validation loss: 0.042\n",
      "10500 (52.50%) Train loss: 0.034 \t Validation loss: 0.041\n",
      "11000 (55.00%) Train loss: 0.034 \t Validation loss: 0.041\n",
      "11500 (57.50%) Train loss: 0.034 \t Validation loss: 0.041\n",
      "12000 (60.00%) Train loss: 0.033 \t Validation loss: 0.040\n",
      "12500 (62.50%) Train loss: 0.033 \t Validation loss: 0.040\n",
      "13000 (65.00%) Train loss: 0.033 \t Validation loss: 0.039\n",
      "13500 (67.50%) Train loss: 0.033 \t Validation loss: 0.040\n",
      "14000 (70.00%) Train loss: 0.033 \t Validation loss: 0.040\n",
      "14500 (72.50%) Train loss: 0.033 \t Validation loss: 0.040\n",
      "15000 (75.00%) Train loss: 0.033 \t Validation loss: 0.040\n",
      "15500 (77.50%) Train loss: 0.033 \t Validation loss: 0.039\n",
      "16000 (80.00%) Train loss: 0.033 \t Validation loss: 0.040\n",
      "16500 (82.50%) Train loss: 0.034 \t Validation loss: 0.039\n",
      "17000 (85.00%) Train loss: 0.033 \t Validation loss: 0.041\n",
      "17500 (87.50%) Train loss: 0.033 \t Validation loss: 0.040\n",
      "18000 (90.00%) Train loss: 0.033 \t Validation loss: 0.040\n",
      "18500 (92.50%) Train loss: 0.033 \t Validation loss: 0.041\n",
      "19000 (95.00%) Train loss: 0.032 \t Validation loss: 0.040\n",
      "19500 (97.50%) Train loss: 0.034 \t Validation loss: 0.042\n"
     ]
    }
   ],
   "source": [
    "train_loss = []\n",
    "val_loss = []\n",
    "\n",
    "for e in range(EPOCHS):\n",
    "    # Mini-batch indexes\n",
    "    idx = np.random.choice(x_train.shape[0], size=BATCH_SIZE)\n",
    "    # Forward pass\n",
    "    aff, units = forward_pass(x_train[idx,:], NN, ACT_F)\n",
    "    # Backward pass\n",
    "    g_b, g_w = backward_pass(x_train[idx,:], y_train[idx], units[-1], units, aff, NN, ACT_F, squared_error)\n",
    "    \n",
    "    # Stochastic gradient descent\n",
    "    for l in range(len(g_b)):\n",
    "        NN[0][l] -= LEARN_R*g_w[l]\n",
    "        NN[1][l] -= LEARN_R*g_b[l]\n",
    "        \n",
    "    # Training loss\n",
    "    _, units = forward_pass(x_train, NN, ACT_F)\n",
    "    # Estimate loss function\n",
    "    #print(np.max(squared_error(y_train, units[-1])))\n",
    "    train_loss.append(np.mean(squared_error(y_train, np.squeeze(units[-1]))))\n",
    "    \n",
    "    # Validation\n",
    "    # Forward pass\n",
    "    _, units = forward_pass(x_validation, NN, ACT_F)\n",
    "    # Estimate validation loss function\n",
    "    val_loss.append(np.mean(squared_error(y_validation, np.squeeze(units[-1]))))\n",
    "    \n",
    "    if e%500==0:\n",
    "        print(\"{:4d}\".format(e),\n",
    "              \"({:5.2f}%)\".format(e/EPOCHS*100), \n",
    "              \"Train loss: {:4.3f} \\t Validation loss: {:4.3f}\".format(train_loss[-1], val_loss[-1]))\n",
    "        \n"
   ]
  },
  {
   "cell_type": "code",
   "execution_count": 68,
   "metadata": {
    "colab": {
     "base_uri": "https://localhost:8080/",
     "height": 265
    },
    "colab_type": "code",
    "id": "JTmQ_J_EOMIi",
    "outputId": "d09f941d-01af-490e-9d69-cac1c5886361"
   },
   "outputs": [
    {
     "data": {
      "image/png": "[encoded data removed]",
      "text/plain": [
       "<Figure size 432x288 with 1 Axes>"
      ]
     },
     "metadata": {
      "needs_background": "light",
      "tags": []
     },
     "output_type": "display_data"
    }
   ],
   "source": [
    "plt.plot(range(len(train_loss)), train_loss);\n",
    "plt.plot(range(len(val_loss)), val_loss);"
   ]
  },
  {
   "cell_type": "markdown",
   "metadata": {
    "colab_type": "text",
    "id": "sQdY6sNUOMIl"
   },
   "source": [
    "# Testing\n",
    "\n",
    "We have kept the calculation of the test error separate in order to emphasize that you should not use the test set in optimization."
   ]
  },
  {
   "cell_type": "code",
   "execution_count": 69,
   "metadata": {
    "colab": {},
    "colab_type": "code",
    "id": "XuZ-qsnoOMIl"
   },
   "outputs": [],
   "source": [
    "_, units = forward_pass(x_test, NN, ACT_F)"
   ]
  },
  {
   "cell_type": "code",
   "execution_count": 70,
   "metadata": {
    "colab": {
     "base_uri": "https://localhost:8080/",
     "height": 315
    },
    "colab_type": "code",
    "id": "KkZANLMQOMIo",
    "outputId": "06020bf1-f361-40f1-8cea-a75a211d76e1"
   },
   "outputs": [
    {
     "name": "stdout",
     "output_type": "stream",
     "text": [
      "Test loss:  0.054\n"
     ]
    },
    {
     "data": {
      "image/png": "[encoded data removed]",
      "text/plain": [
       "<Figure size 432x288 with 1 Axes>"
      ]
     },
     "metadata": {
      "needs_background": "light",
      "tags": []
     },
     "output_type": "display_data"
    }
   ],
   "source": [
    "plt.scatter(y_test, units[-1]);\n",
    "plt.plot([np.min(y_test), np.max(y_test)], [np.min(y_test), np.max(y_test)], color='k');\n",
    "plt.xlabel(\"y\");\n",
    "plt.ylabel(\"$\\hat{y}$\");\n",
    "plt.title(\"Model prediction vs real in the test set, the close to the line the better\")\n",
    "plt.grid(True);\n",
    "plt.axis('equal');\n",
    "plt.tight_layout();\n",
    "\n",
    "print(\"Test loss:  {:4.3f}\".format(np.mean(squared_error(y_test, np.squeeze(units[-1])))))"
   ]
  },
  {
   "cell_type": "code",
   "execution_count": 71,
   "metadata": {
    "colab": {
     "base_uri": "https://localhost:8080/",
     "height": 279
    },
    "colab_type": "code",
    "id": "_JJHvYp5OMIq",
    "outputId": "c1c7ecf2-56ea-4792-cbe7-ec33bedf01ef"
   },
   "outputs": [
    {
     "data": {
      "image/png": "[encoded data removed]",
      "text/plain": [
       "<Figure size 432x288 with 1 Axes>"
      ]
     },
     "metadata": {
      "needs_background": "light",
      "tags": []
     },
     "output_type": "display_data"
    }
   ],
   "source": [
    "if D1:\n",
    "    plt.scatter(x_train[:,0], y_train, label=\"train data\");\n",
    "    plt.scatter(x_test[:,0], units[-1], label=\"test prediction\");\n",
    "    plt.scatter(x_test[:,0], y_test, label=\"test data\");\n",
    "    plt.legend();\n",
    "    plt.xlabel(\"x\");\n",
    "    plt.ylabel(\"y\");\n",
    "else:\n",
    "    plt.scatter(x_train[:,1], y_train, label=\"train data\");\n",
    "    plt.scatter(x_test[:,1], units[-1], label=\"test data prediction\");\n",
    "    plt.scatter(x_test[:,1], y_test, label=\"test data\");\n",
    "    plt.legend();\n",
    "    plt.xlabel(\"x\");\n",
    "    plt.ylabel(\"y\");"
   ]
  },
  {
   "cell_type": "markdown",
   "metadata": {
    "colab_type": "text",
    "id": "Dn7huAwgOMIs"
   },
   "source": [
    "## Exercise g) Show overfitting, underfitting and just right fitting\n",
    "\n",
    "Vary the architecture and other things to show clear signs of overfitting (=training loss significantly lower than test loss) and underfitting (=not fitting enough to training data so that test performance is also hurt).\n",
    "\n",
    "See also if you can get a good compromise which leads to a low validation loss. \n",
    "\n",
    "For this problem do you see any big difference between validation and test loss? The answer here will probably be no. Discuss cases where it is important to keep the two separate.\n",
    "\n",
    "_Insert written answer here._\n"
   ]
  },
  {
   "cell_type": "code",
   "execution_count": 73,
   "metadata": {
    "colab": {},
    "colab_type": "code",
    "id": "iwkTJi4qOMIt"
   },
   "outputs": [],
   "source": [
    "# Insert your code for getting overfitting, underfitting and just right fitting\n",
    "\n",
    "# change the units of layers\n",
    "\n",
    "Train_Loss = []\n",
    "Val_Loss = []\n",
    "Test_Loss = []\n",
    "\n",
    "EPOCHS = 20000\n",
    "BATCH_SIZE = 128 \n",
    "LEARN_R = 1e-2 \n",
    "\n",
    "for u in range(1, 201, 10):\n",
    "\n",
    "    L  = [1, u, 1]\n",
    "    NN = init_NN(L)\n",
    "\n",
    "    for e in range(EPOCHS):\n",
    "        # Mini-batch indexes\n",
    "        idx = np.random.choice(x_train.shape[0], size=BATCH_SIZE)\n",
    "        # Forward pass\n",
    "        aff, units = forward_pass(x_train[idx,:], NN, ACT_F)\n",
    "        # Backward pass\n",
    "        g_b, g_w = backward_pass(x_train[idx,:], y_train[idx], units[-1], units, aff, NN, ACT_F, squared_error)\n",
    "    \n",
    "        # Stochastic gradient descent\n",
    "        for l in range(len(g_b)):\n",
    "            NN[0][l] -= LEARN_R*g_w[l]\n",
    "            NN[1][l] -= LEARN_R*g_b[l]\n",
    "        \n",
    "        # Training loss\n",
    "        _, units_train = forward_pass(x_train, NN, ACT_F)\n",
    "        # Estimate loss function\n",
    "        #print(np.max(squared_error(y_train, units[-1])))\n",
    "        #train_loss_tmp = np.mean(squared_error(y_train, np.squeeze(units[-1])))\n",
    "    \n",
    "        # Validation\n",
    "        # Forward pass\n",
    "        _, units_val = forward_pass(x_validation, NN, ACT_F)\n",
    "        # Estimate validation loss function\n",
    "        #val_loss_tmp = np.mean(squared_error(y_validation, np.squeeze(units[-1])))\n",
    "    \n",
    "    Train_Loss.append(np.mean(squared_error(y_train, np.squeeze(units_train[-1]))))\n",
    "    Val_Loss.append(np.mean(squared_error(y_validation, np.squeeze(units_val[-1]))))\n",
    "\n",
    "    #print(Train loss: {:4.3f} \\t Validation loss: {:4.3f}\".format(train_loss[-1], val_loss[-1]))\n",
    "\n",
    "    _, units = forward_pass(x_test, NN, ACT_F)\n",
    "    #print(\"Test loss:  {:4.3f}\".format(np.mean(squared_error(y_test, np.squeeze(units[-1])))))\n",
    "    Test_Loss.append(np.mean(squared_error(y_test, np.squeeze(units[-1]))))\n"
   ]
  },
  {
   "cell_type": "code",
   "execution_count": 77,
   "metadata": {
    "colab": {
     "base_uri": "https://localhost:8080/",
     "height": 283
    },
    "colab_type": "code",
    "id": "cilRYx-v9T_x",
    "outputId": "27d1d49b-ab75-448f-e5b7-d204a777f3b2"
   },
   "outputs": [
    {
     "data": {
      "text/plain": [
       "<matplotlib.legend.Legend at 0x7fb2c5512eb8>"
      ]
     },
     "execution_count": 77,
     "metadata": {
      "tags": []
     },
     "output_type": "execute_result"
    },
    {
     "data": {
      "image/png": "[encoded data removed]",
      "text/plain": [
       "<Figure size 432x288 with 1 Axes>"
      ]
     },
     "metadata": {
      "needs_background": "light",
      "tags": []
     },
     "output_type": "display_data"
    }
   ],
   "source": [
    "plt.plot(range(1, 201, 10), Train_Loss);\n",
    "plt.plot(range(1, 201, 10), Val_Loss);\n",
    "plt.plot(range(1, 201, 10), Test_Loss)\n",
    "plt.legend(labels = ['Train', 'Val', 'Test'])"
   ]
  },
  {
   "cell_type": "code",
   "execution_count": 84,
   "metadata": {
    "colab": {
     "base_uri": "https://localhost:8080/",
     "height": 35
    },
    "colab_type": "code",
    "id": "ZQ9i0g2nQ56w",
    "outputId": "0c433c0a-bf22-449a-d763-27218d471724"
   },
   "outputs": [
    {
     "data": {
      "text/plain": [
       "array([31])"
      ]
     },
     "execution_count": 84,
     "metadata": {
      "tags": []
     },
     "output_type": "execute_result"
    }
   ],
   "source": [
    "Val_Loss = np.asarray(Val_Loss)\n",
    "np.arange(1, 201, 10)[Val_Loss == np.min(Val_Loss)]"
   ]
  },
  {
   "cell_type": "code",
   "execution_count": 85,
   "metadata": {
    "colab": {
     "base_uri": "https://localhost:8080/",
     "height": 35
    },
    "colab_type": "code",
    "id": "SyoIjG9NSwt8",
    "outputId": "789b39a7-18c4-4051-a6a3-37ac8c06e526"
   },
   "outputs": [
    {
     "data": {
      "text/plain": [
       "array([31])"
      ]
     },
     "execution_count": 85,
     "metadata": {
      "tags": []
     },
     "output_type": "execute_result"
    }
   ],
   "source": [
    "Test_Loss = np.asarray(Test_Loss)\n",
    "np.arange(1, 201, 10)[Test_Loss == np.min(Test_Loss)]"
   ]
  },
  {
   "cell_type": "markdown",
   "metadata": {
    "colab_type": "text",
    "id": "KDv44SdHEitB"
   },
   "source": [
    "When the hidden layer has few units, like 1, the it shows a case of underfitting. The test loss is over 0.6, so it has very low prediction performance.\n",
    "\n",
    "If the hidden layer has more units, such as from 50-200, the training loss is significantly lower than the test loss.\n",
    "\n",
    "The compromise is when the units is 31. The validation loss has its minimum value. In this case, the test loss also has a minimum at 31. This can be regarded as right fitting.\n",
    "\n",
    "Due to the validation is also a prediction on the validation data set, whose data was not used in the training. The validation loss can show the prediction performance. There is no big difference between the validation loss and test loss. If these two sets are not separate, the model would be biased and might have a bad future prediction.\n",
    "\n",
    "\n"
   ]
  },
  {
   "cell_type": "markdown",
   "metadata": {
    "colab_type": "text",
    "id": "B2XKW1BTOMIv"
   },
   "source": [
    "# Next steps - classification\n",
    "\n",
    "It is straight forward to extend what we have done to classification. \n",
    "\n",
    "For numerical stability it is better to make softmax and cross-entropy as one function so we write the cross entropy loss as a function of the logits we talked about last week. \n",
    "\n",
    "Next week we will see how to perform classification in PyTorch."
   ]
  },
  {
   "cell_type": "markdown",
   "metadata": {
    "colab_type": "text",
    "id": "07eADmrFOMIv"
   },
   "source": [
    "## Exercise h) optional - Implement backpropagation for classification\n",
    "\n",
    "Should be possible with very few lines of code. :-)"
   ]
  },
  {
   "cell_type": "code",
   "execution_count": null,
   "metadata": {
    "colab": {},
    "colab_type": "code",
    "id": "epheiItQOMIv"
   },
   "outputs": [],
   "source": [
    "# Just add code."
   ]
  }
 ],
 "metadata": {
  "anaconda-cloud": {},
  "colab": {
   "collapsed_sections": [
    "WdB_-KrxOMHn",
    "q0oiFgPrOMHq",
    "6xJz8YXAOMHr",
    "3tjM12sdOMHt",
    "LQzrRD4oOMIC",
    "07eADmrFOMIv"
   ],
   "name": "2.1-FNN-NumPy.ipynb",
   "provenance": [],
   "toc_visible": true
  },
  "kernelspec": {
   "display_name": "Python 3",
   "language": "python",
   "name": "python3"
  },
  "language_info": {
   "codemirror_mode": {
    "name": "ipython",
    "version": 3
   },
   "file_extension": ".py",
   "mimetype": "text/x-python",
   "name": "python",
   "nbconvert_exporter": "python",
   "pygments_lexer": "ipython3",
   "version": "3.6.9"
  }
 },
 "nbformat": 4,
 "nbformat_minor": 4
}
