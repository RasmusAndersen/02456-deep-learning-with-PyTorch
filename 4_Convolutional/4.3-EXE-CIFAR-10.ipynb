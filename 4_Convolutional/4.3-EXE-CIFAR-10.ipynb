{
 "cells": [
  {
   "cell_type": "markdown",
   "metadata": {
    "colab_type": "text",
    "id": "bu1Wy6Xb81Sn"
   },
   "source": [
    "# Credits\n",
    "\n",
    "This is heavily influenced from https://github.com/pytorch/tutorials"
   ]
  },
  {
   "cell_type": "markdown",
   "metadata": {
    "colab_type": "text",
    "id": "oZW0gaQO81Sq"
   },
   "source": [
    "# CIFAR-10\n",
    "\n",
    "In thins notebook you need to put what you have learned into practice, and create your own convolutional classifier for the CIFAR-10 dataset.\n",
    "\n",
    "It has the classes: ‘airplane’, ‘automobile’, ‘bird’, ‘cat’, ‘deer’, ‘dog’, ‘frog’, ‘horse’, ‘ship’, ‘truck’.\n",
    "The images in CIFAR-10 are of size 3x32x32, i.e. 3-channel color images of 32x32 pixels in size.\n",
    "\n",
    "![cifar10](https://github.com/DeepLearningDTU/02456-deep-learning-with-PyTorch/blob/master/static_files/cifar10.png?raw=1)\n",
    "\n",
    "\n",
    "In order to train a classifier the following steps needs to be performed:\n",
    "\n",
    "1. Load and normalizing the CIFAR10 training and test datasets using\n",
    "   ``torchvision``\n",
    "2. Define a Convolutional Neural Network\n",
    "3. Define a loss function\n",
    "4. Train the network on the training data\n",
    "5. Test the network on the test data\n",
    "\n",
    "We will help you along the way.\n",
    "We indicate the places you need to modify the code with `# Your code here!`.\n",
    "It is however a good idea to read the entire assignment before you begin coding!"
   ]
  },
  {
   "cell_type": "markdown",
   "metadata": {
    "colab_type": "text",
    "id": "htyg7xxN81St"
   },
   "source": [
    "## 1. Loading and normalizing CIFAR10\n",
    "\n",
    "Using ``torchvision``, it’s extremely easy to load CIFAR10."
   ]
  },
  {
   "cell_type": "code",
   "execution_count": 1,
   "metadata": {
    "colab": {},
    "colab_type": "code",
    "id": "v3u2GIWr81Su"
   },
   "outputs": [],
   "source": [
    "%matplotlib inline\n",
    "import matplotlib.pyplot as plt\n",
    "import numpy as np\n",
    "\n",
    "import torch\n",
    "import torchvision\n",
    "import torchvision.transforms as transforms"
   ]
  },
  {
   "cell_type": "markdown",
   "metadata": {
    "colab_type": "text",
    "id": "xx5SHRkm81S0"
   },
   "source": [
    "The output of torchvision datasets are PILImage images of range [0, 1].\n",
    "We transform them to Tensors of normalized range [-1, 1]\n",
    "\n",
    "**NB** Modify the code below to only use a small part of the dataset if your computer is very slow."
   ]
  },
  {
   "cell_type": "code",
   "execution_count": 2,
   "metadata": {
    "colab": {
     "base_uri": "https://localhost:8080/",
     "height": 68
    },
    "colab_type": "code",
    "id": "QZeTujLC81S3",
    "outputId": "656d4f5a-d1cc-4aa8-9fa6-94ac83d6c12e"
   },
   "outputs": [
    {
     "name": "stdout",
     "output_type": "stream",
     "text": [
      "Files already downloaded and verified\n",
      "Files already downloaded and verified\n",
      "used classes: ['cat', 'dog']\n"
     ]
    }
   ],
   "source": [
    "transform = transforms.Compose(\n",
    "    [transforms.ToTensor(),\n",
    "     transforms.Normalize((0.5, 0.5, 0.5),(0.5, 0.5, 0.5))\n",
    "    ]\n",
    ")\n",
    "\n",
    "# Load dataset\n",
    "trainset = torchvision.datasets.CIFAR10(root='./data', train=True,\n",
    "                                        download=True, transform=transform)\n",
    "testset = torchvision.datasets.CIFAR10(root='./data', train=False,\n",
    "                                       download=True, transform=transform)\n",
    "\n",
    "classes = ('plane', 'car', 'bird', 'cat', 'deer',\n",
    "           'dog', 'frog', 'horse', 'ship', 'truck')\n",
    "\n",
    "used_categories = range(len(classes))\n",
    "\n",
    "## USE CODE BELOW IF YOUR COMPUTER IS TOO SLOW\n",
    "reduce_dataset = True\n",
    "if reduce_dataset:\n",
    "    used_categories = (3, 5) # cats and dogs\n",
    "\n",
    "    classes = [classes[i] for i in used_categories]\n",
    "    new_train_data = []\n",
    "    new_train_labels = []\n",
    "\n",
    "    new_test_data = []\n",
    "    new_test_labels = []\n",
    "    for i, t in enumerate(used_categories):\n",
    "        new_train_data.append(trainset.data[np.where(np.array(trainset.targets) == t)])\n",
    "        new_train_labels += [i for _ in range(new_train_data[-1].shape[0])]\n",
    "\n",
    "        new_test_data.append(testset.data[np.where(np.array(testset.targets) == t)])\n",
    "        new_test_labels += [i for _ in range(new_test_data[-1].shape[0])]\n",
    "\n",
    "    new_train_data = np.concatenate(new_train_data, 0)\n",
    "    trainset.data = new_train_data\n",
    "    trainset.targets = new_train_labels\n",
    "\n",
    "    new_test_data = np.concatenate(new_test_data, 0)\n",
    "    testset.data = new_test_data\n",
    "    testset.targets = new_test_labels\n",
    "\n",
    "    \n",
    "trainloader = torch.utils.data.DataLoader(trainset, batch_size=4,\n",
    "                                          shuffle=True, num_workers=2)\n",
    "testloader = torch.utils.data.DataLoader(testset, batch_size=4,\n",
    "                                         shuffle=True, num_workers=2)\n",
    "train_data_iter = iter(trainloader)\n",
    "test_data_iter = iter(testloader)\n",
    "print('used classes:', classes)"
   ]
  },
  {
   "cell_type": "code",
   "execution_count": 3,
   "metadata": {
    "colab": {
     "base_uri": "https://localhost:8080/",
     "height": 153
    },
    "colab_type": "code",
    "id": "JDHkc52L81S9",
    "outputId": "d06106f2-f6b5-46be-9b46-07637861aa8c"
   },
   "outputs": [
    {
     "name": "stdout",
     "output_type": "stream",
     "text": [
      "# Training data\n",
      "Number of points: 10000\n",
      "Batch dimension [B x C x H x W]: torch.Size([4, 3, 32, 32])\n",
      "Number of distinct labels: 2\n",
      "\n",
      "# Test data\n",
      "Number of points: 2000\n",
      "Batch dimension [B x C x H x W]: torch.Size([4, 3, 32, 32])\n",
      "Number of distinct labels: 2\n"
     ]
    }
   ],
   "source": [
    "print(\"# Training data\")\n",
    "print(\"Number of points:\", len(trainset))\n",
    "x, y = next(iter(trainloader))\n",
    "print(\"Batch dimension [B x C x H x W]:\", x.shape)\n",
    "print(\"Number of distinct labels:\", len(set(trainset.targets)))\n",
    "\n",
    "\n",
    "print(\"\\n# Test data\")\n",
    "print(\"Number of points:\", len(testset))\n",
    "x, y = next(iter(testloader))\n",
    "print(\"Batch dimension [B x C x H x W]:\", x.shape)\n",
    "print(\"Number of distinct labels:\", len(set(testset.targets)))"
   ]
  },
  {
   "cell_type": "markdown",
   "metadata": {
    "colab_type": "text",
    "id": "xSA1h94681TB"
   },
   "source": [
    "Let us show some of the training images, for fun.\n",
    "\n"
   ]
  },
  {
   "cell_type": "code",
   "execution_count": 4,
   "metadata": {
    "colab": {
     "base_uri": "https://localhost:8080/",
     "height": 156
    },
    "colab_type": "code",
    "id": "njJy0klP81TD",
    "outputId": "693811f4-a8c1-41ce-d885-b3fbbaca8b46"
   },
   "outputs": [
    {
     "name": "stdout",
     "output_type": "stream",
     "text": [
      "  dog   cat   dog   cat\n"
     ]
    },
    {
     "data": {
      "image/png": "[encoded data removed]",
      "text/plain": [
       "<Figure size 432x288 with 1 Axes>"
      ]
     },
     "metadata": {
      "needs_background": "light"
     },
     "output_type": "display_data"
    }
   ],
   "source": [
    "# Run this cell multiple time to see more samples\n",
    "\n",
    "def imshow(img):\n",
    "    \"\"\" show an image \"\"\"\n",
    "    img = img / 2 + 0.5 # unnormalize\n",
    "    npimg = img.numpy()\n",
    "    plt.imshow(np.transpose(npimg, (1, 2, 0)))\n",
    "\n",
    "\n",
    "# get some random training images\n",
    "images, labels = train_data_iter.next()\n",
    "\n",
    "# show images\n",
    "imshow(torchvision.utils.make_grid(images))\n",
    "\n",
    "# print labels\n",
    "print(' '.join('%5s' % classes[labels[j]] for j in range(4)))"
   ]
  },
  {
   "cell_type": "markdown",
   "metadata": {
    "colab_type": "text",
    "id": "Wt3BVFMF81TI"
   },
   "source": [
    "## 2. Define a Convolutional Neural Network\n",
    "\n",
    "**Assignment 1:** Define a convolutional neural network. \n",
    "You may use the code from previous notebooks.\n",
    "We suggest that you start with a small network, and make sure that everything is working.\n",
    "Once you can train successfully come back and improve the architecture"
   ]
  },
  {
   "cell_type": "code",
   "execution_count": 15,
   "metadata": {
    "colab": {
     "base_uri": "https://localhost:8080/",
     "height": 34
    },
    "colab_type": "code",
    "id": "_EsKbw3o81TK",
    "outputId": "aad251c1-367f-4256-b96d-15d319048482"
   },
   "outputs": [
    {
     "name": "stdout",
     "output_type": "stream",
     "text": [
      "Net(\n",
      "  (conv): Sequential(\n",
      "    (0): Conv2d(3, 64, kernel_size=(3, 3), stride=(1, 1), padding=(1, 1))\n",
      "    (1): ReLU()\n",
      "    (2): Dropout(p=0.1, inplace=False)\n",
      "    (3): Conv2d(64, 64, kernel_size=(3, 3), stride=(1, 1), padding=(1, 1))\n",
      "    (4): ReLU()\n",
      "    (5): MaxPool2d(kernel_size=2, stride=2, padding=0, dilation=1, ceil_mode=False)\n",
      "    (6): Conv2d(64, 64, kernel_size=(3, 3), stride=(1, 1), padding=(1, 1))\n",
      "    (7): ReLU()\n",
      "    (8): Dropout(p=0.1, inplace=False)\n",
      "    (9): Conv2d(64, 64, kernel_size=(3, 3), stride=(1, 1), padding=(1, 1))\n",
      "    (10): ReLU()\n",
      "    (11): Dropout(p=0.1, inplace=False)\n",
      "    (12): MaxPool2d(kernel_size=2, stride=2, padding=0, dilation=1, ceil_mode=False)\n",
      "  )\n",
      "  (fc): Sequential(\n",
      "    (0): Linear(in_features=4096, out_features=512, bias=True)\n",
      "    (1): ReLU()\n",
      "    (2): Dropout(p=0.1, inplace=False)\n",
      "    (3): Linear(in_features=512, out_features=2, bias=True)\n",
      "  )\n",
      ")\n"
     ]
    }
   ],
   "source": [
    "import torch\n",
    "from torch.autograd import Variable\n",
    "from torch.nn.parameter import Parameter\n",
    "import torch.nn as nn\n",
    "import torch.nn.functional as F\n",
    "import torch.optim as optim\n",
    "import torch.nn.init as init\n",
    "\n",
    "from torch.nn import Linear, Conv2d, BatchNorm2d, MaxPool2d, Dropout2d\n",
    "from torch.nn.functional import relu, elu, relu6, sigmoid, tanh, softmax\n",
    "\n",
    "class Net(nn.Module):\n",
    "    def __init__(self, num_classes):\n",
    "        super(Net, self).__init__()\n",
    "        self.num_classes = num_classes\n",
    "        self.n_features = 64\n",
    "        \n",
    "        # Your code here!\n",
    "        self.conv = nn.Sequential(\n",
    "            nn.Conv2d(3, self.n_features, kernel_size=3, padding=1),\n",
    "            nn.ReLU(),\n",
    "            nn.Dropout(0.1),\n",
    "            \n",
    "            nn.Conv2d(self.n_features, self.n_features, kernel_size=3, padding=1),\n",
    "            nn.ReLU(),\n",
    "            nn.MaxPool2d(2, stride=2),\n",
    "            \n",
    "            nn.Conv2d(self.n_features, self.n_features, kernel_size=3, padding=1),\n",
    "            nn.ReLU(),\n",
    "            nn.Dropout(0.1),\n",
    "            \n",
    "            nn.Conv2d(self.n_features, self.n_features, kernel_size=3, padding=1),\n",
    "            nn.ReLU(),\n",
    "            nn.Dropout(0.1),\n",
    "            nn.MaxPool2d(2, stride=2),\n",
    "        ) \n",
    "        \n",
    "        self.fc = nn.Sequential(\n",
    "            \n",
    "            nn.Linear(4096, 512),\n",
    "            nn.ReLU(),\n",
    "            nn.Dropout(0.1),\n",
    "            nn.Linear(512, num_classes)\n",
    "        )\n",
    "\n",
    "    def forward(self, x):\n",
    "        # Your code here!\n",
    "        x = self.conv(x)\n",
    "        x = x.view(x.size(0), -1)\n",
    "        #print(x.size())\n",
    "        x = self.fc(x)\n",
    "        x = F.softmax(x,dim=1)\n",
    "        return x\n",
    "    \n",
    "\n",
    "device = 'cuda' #torch.device(\"cuda:0\" if torch.cuda.is_available() else \"cpu\")\n",
    "net = Net(len(used_categories))\n",
    "net.to(device)\n",
    "print(net)\n"
   ]
  },
  {
   "cell_type": "markdown",
   "metadata": {
    "colab_type": "text",
    "id": "7-IUg3sq81TQ"
   },
   "source": [
    "## 3. Define a Loss function and optimizer\n",
    "\n",
    "**Assignment 2:** Implement the criterion and optimizer. \n",
    "We suggest Classification Cross-Entropy loss and SGD with momentum.\n",
    "You might need to experiment a bit with the learning rate."
   ]
  },
  {
   "cell_type": "code",
   "execution_count": 16,
   "metadata": {
    "colab": {},
    "colab_type": "code",
    "id": "48AX85QP81TR"
   },
   "outputs": [],
   "source": [
    "import torch.optim as optim\n",
    "\n",
    "criterion = nn.CrossEntropyLoss()  # Your code here!\n",
    "optimizer = optim.SGD(net.parameters(), lr=0.001, momentum=0.9)  # Your code here!"
   ]
  },
  {
   "cell_type": "markdown",
   "metadata": {
    "colab_type": "text",
    "id": "-WneIN7C81TV"
   },
   "source": [
    "## 4. Train the network\n",
    "\n",
    "**Assignment 3:** Finish the training loop below. \n",
    "Start by using a small number of epochs (e.g. 3).\n",
    "Even with a low number of epochs you should be able to see results that are better than chance.\n",
    "When everything is working increase the number of epochs to find out how good your network really is."
   ]
  },
  {
   "cell_type": "code",
   "execution_count": 31,
   "metadata": {
    "colab": {},
    "colab_type": "code",
    "id": "NkUanRRb81TW"
   },
   "outputs": [
    {
     "name": "stdout",
     "output_type": "stream",
     "text": [
      "epoch 1, loss: 0.379\n",
      "epoch 2, loss: 0.372\n",
      "epoch 3, loss: 0.368\n",
      "epoch 4, loss: 0.365\n",
      "epoch 5, loss: 0.363\n",
      "epoch 6, loss: 0.360\n",
      "epoch 7, loss: 0.357\n",
      "epoch 8, loss: 0.357\n",
      "epoch 9, loss: 0.355\n",
      "epoch 10, loss: 0.354\n",
      "epoch 11, loss: 0.352\n",
      "epoch 12, loss: 0.350\n",
      "epoch 13, loss: 0.349\n",
      "epoch 14, loss: 0.346\n",
      "epoch 15, loss: 0.345\n",
      "epoch 16, loss: 0.343\n",
      "epoch 17, loss: 0.344\n",
      "epoch 18, loss: 0.345\n",
      "epoch 19, loss: 0.346\n",
      "epoch 20, loss: 0.345\n",
      "epoch 21, loss: 0.344\n",
      "epoch 22, loss: 0.341\n",
      "epoch 23, loss: 0.341\n",
      "epoch 24, loss: 0.340\n",
      "epoch 25, loss: 0.340\n",
      "epoch 26, loss: 0.341\n",
      "epoch 27, loss: 0.340\n",
      "epoch 28, loss: 0.339\n",
      "epoch 29, loss: 0.339\n",
      "epoch 30, loss: 0.339\n",
      "epoch 31, loss: 0.339\n",
      "epoch 32, loss: 0.338\n",
      "epoch 33, loss: 0.338\n",
      "epoch 34, loss: 0.338\n",
      "epoch 35, loss: 0.338\n",
      "epoch 36, loss: 0.339\n",
      "epoch 37, loss: 0.340\n",
      "epoch 38, loss: 0.339\n",
      "epoch 39, loss: 0.339\n",
      "epoch 40, loss: 0.338\n",
      "epoch 41, loss: 0.338\n",
      "epoch 42, loss: 0.338\n",
      "epoch 43, loss: 0.338\n",
      "epoch 44, loss: 0.338\n",
      "epoch 45, loss: 0.338\n",
      "epoch 46, loss: 0.338\n",
      "epoch 47, loss: 0.338\n",
      "epoch 48, loss: 0.338\n",
      "epoch 49, loss: 0.338\n",
      "epoch 50, loss: 0.338\n",
      "epoch 51, loss: 0.338\n",
      "epoch 52, loss: 0.338\n",
      "epoch 53, loss: 0.338\n",
      "epoch 54, loss: 0.338\n",
      "epoch 55, loss: 0.338\n",
      "epoch 56, loss: 0.338\n",
      "epoch 57, loss: 0.338\n",
      "epoch 58, loss: 0.338\n",
      "epoch 59, loss: 0.338\n",
      "epoch 60, loss: 0.338\n",
      "epoch 61, loss: 0.338\n",
      "epoch 62, loss: 0.338\n",
      "epoch 63, loss: 0.338\n",
      "epoch 64, loss: 0.338\n",
      "epoch 65, loss: 0.338\n",
      "epoch 66, loss: 0.338\n",
      "epoch 67, loss: 0.338\n",
      "epoch 68, loss: 0.338\n",
      "epoch 69, loss: 0.338\n",
      "epoch 70, loss: 0.338\n",
      "epoch 71, loss: 0.338\n",
      "epoch 72, loss: 0.338\n",
      "epoch 73, loss: 0.338\n",
      "epoch 74, loss: 0.338\n",
      "epoch 75, loss: 0.338\n",
      "epoch 76, loss: 0.338\n",
      "epoch 77, loss: 0.338\n",
      "epoch 78, loss: 0.338\n",
      "epoch 79, loss: 0.338\n",
      "epoch 80, loss: 0.338\n",
      "epoch 81, loss: 0.338\n",
      "epoch 82, loss: 0.338\n",
      "epoch 83, loss: 0.338\n",
      "epoch 84, loss: 0.338\n",
      "epoch 85, loss: 0.338\n",
      "epoch 86, loss: 0.338\n",
      "epoch 87, loss: 0.338\n",
      "epoch 88, loss: 0.338\n",
      "epoch 89, loss: 0.338\n",
      "epoch 90, loss: 0.338\n",
      "epoch 91, loss: 0.338\n",
      "epoch 92, loss: 0.338\n",
      "epoch 93, loss: 0.338\n",
      "epoch 94, loss: 0.338\n",
      "epoch 95, loss: 0.338\n",
      "epoch 96, loss: 0.338\n",
      "epoch 97, loss: 0.338\n",
      "epoch 98, loss: 0.337\n",
      "epoch 99, loss: 0.337\n",
      "epoch 100, loss: 0.337\n",
      "epoch 101, loss: 0.337\n",
      "epoch 102, loss: 0.337\n",
      "epoch 103, loss: 0.337\n",
      "epoch 104, loss: 0.337\n",
      "epoch 105, loss: 0.337\n",
      "epoch 106, loss: 0.337\n",
      "epoch 107, loss: 0.337\n",
      "epoch 108, loss: 0.337\n",
      "epoch 109, loss: 0.337\n",
      "epoch 110, loss: 0.337\n",
      "epoch 111, loss: 0.337\n",
      "epoch 112, loss: 0.337\n",
      "epoch 113, loss: 0.337\n",
      "epoch 114, loss: 0.337\n",
      "epoch 115, loss: 0.337\n",
      "epoch 116, loss: 0.337\n",
      "epoch 117, loss: 0.337\n",
      "epoch 118, loss: 0.337\n",
      "epoch 119, loss: 0.337\n",
      "epoch 120, loss: 0.337\n",
      "epoch 121, loss: 0.337\n",
      "epoch 122, loss: 0.337\n",
      "epoch 123, loss: 0.337\n",
      "epoch 124, loss: 0.337\n",
      "epoch 125, loss: 0.337\n",
      "epoch 126, loss: 0.337\n",
      "epoch 127, loss: 0.337\n",
      "epoch 128, loss: 0.337\n",
      "epoch 129, loss: 0.337\n",
      "epoch 130, loss: 0.337\n",
      "epoch 131, loss: 0.337\n",
      "epoch 132, loss: 0.337\n",
      "epoch 133, loss: 0.337\n",
      "epoch 134, loss: 0.337\n",
      "epoch 135, loss: 0.337\n",
      "epoch 136, loss: 0.337\n",
      "epoch 137, loss: 0.337\n",
      "epoch 138, loss: 0.337\n",
      "epoch 139, loss: 0.337\n",
      "epoch 140, loss: 0.337\n",
      "epoch 141, loss: 0.337\n",
      "epoch 142, loss: 0.337\n",
      "epoch 143, loss: 0.337\n",
      "epoch 144, loss: 0.337\n",
      "epoch 145, loss: 0.337\n",
      "epoch 146, loss: 0.337\n",
      "epoch 147, loss: 0.337\n",
      "epoch 148, loss: 0.337\n",
      "epoch 149, loss: 0.337\n",
      "epoch 150, loss: 0.337\n",
      "epoch 151, loss: 0.337\n",
      "epoch 152, loss: 0.337\n",
      "epoch 153, loss: 0.337\n",
      "epoch 154, loss: 0.337\n",
      "epoch 155, loss: 0.337\n",
      "epoch 156, loss: 0.337\n",
      "epoch 157, loss: 0.337\n",
      "epoch 158, loss: 0.337\n",
      "epoch 159, loss: 0.337\n",
      "epoch 160, loss: 0.337\n",
      "epoch 161, loss: 0.337\n",
      "epoch 162, loss: 0.337\n",
      "epoch 163, loss: 0.337\n",
      "epoch 164, loss: 0.337\n",
      "epoch 165, loss: 0.337\n",
      "epoch 166, loss: 0.337\n",
      "epoch 167, loss: 0.337\n",
      "epoch 168, loss: 0.337\n",
      "epoch 169, loss: 0.337\n",
      "epoch 170, loss: 0.337\n",
      "epoch 171, loss: 0.337\n",
      "epoch 172, loss: 0.337\n",
      "epoch 173, loss: 0.337\n",
      "epoch 174, loss: 0.337\n",
      "epoch 175, loss: 0.337\n",
      "epoch 176, loss: 0.337\n",
      "epoch 177, loss: 0.337\n",
      "epoch 178, loss: 0.337\n",
      "epoch 179, loss: 0.337\n",
      "epoch 180, loss: 0.337\n",
      "epoch 181, loss: 0.337\n",
      "epoch 182, loss: 0.337\n",
      "epoch 183, loss: 0.337\n",
      "epoch 184, loss: 0.337\n",
      "epoch 185, loss: 0.337\n",
      "epoch 186, loss: 0.337\n",
      "epoch 187, loss: 0.337\n",
      "epoch 188, loss: 0.337\n",
      "epoch 189, loss: 0.337\n",
      "epoch 190, loss: 0.337\n",
      "epoch 191, loss: 0.337\n",
      "epoch 192, loss: 0.337\n",
      "epoch 193, loss: 0.337\n",
      "epoch 194, loss: 0.337\n",
      "epoch 195, loss: 0.337\n",
      "epoch 196, loss: 0.337\n",
      "epoch 197, loss: 0.337\n",
      "epoch 198, loss: 0.337\n",
      "epoch 199, loss: 0.337\n",
      "epoch 200, loss: 0.337\n",
      "Finished Training\n"
     ]
    }
   ],
   "source": [
    "num_epoch = 200  # Your code here!\n",
    "\n",
    "for epoch in range(num_epoch):  # loop over the dataset multiple times\n",
    "\n",
    "    running_loss = 0.0\n",
    "    for i, data in enumerate(trainloader, 0):\n",
    "        # get the inputs\n",
    "        inputs, labels = data\n",
    "\n",
    "        # wrap them in Variable\n",
    "        inputs, labels = Variable(inputs.to(device)), Variable(labels.to(device))\n",
    "\n",
    "        # zero the parameter gradients\n",
    "        # Your code here!\n",
    "        optimizer.zero_grad()\n",
    "\n",
    "        # forward + backward + optimize\n",
    "        # Your code here!\n",
    "        outputs = net(inputs)\n",
    "        loss = criterion(outputs, labels)\n",
    "        loss.backward()\n",
    "        optimizer.step()\n",
    "        \n",
    "\n",
    "        # print statistics\n",
    "        running_loss += loss.item()\n",
    "        #if i % 1000 == 999:    # print every 1000 mini-batches\n",
    "    print('epoch %d, loss: %.3f' %\n",
    "          (epoch + 1, running_loss / (i + 1)))\n",
    "    running_loss = 0.0\n",
    "\n",
    "print('Finished Training')"
   ]
  },
  {
   "cell_type": "markdown",
   "metadata": {
    "colab_type": "text",
    "id": "0qAsbC8I81Ta"
   },
   "source": [
    "## 5. Test the network on the test data\n",
    "\n",
    "Now we need to check if the network has learnt anything at all.\n",
    "We will check this by predicting the class label that the neural network outputs, and checking it against the ground truth.\n",
    "If the prediction is correct, we add the sample to the list of correct predictions.\n",
    "\n",
    "Okay, first step. Let us display an image from the test set to get familiar."
   ]
  },
  {
   "cell_type": "code",
   "execution_count": 32,
   "metadata": {
    "colab": {},
    "colab_type": "code",
    "id": "7LT0RoAC81Tc"
   },
   "outputs": [
    {
     "data": {
      "image/png": "[encoded data removed]",
      "text/plain": [
       "<Figure size 432x288 with 1 Axes>"
      ]
     },
     "metadata": {
      "needs_background": "light"
     },
     "output_type": "display_data"
    },
    {
     "name": "stdout",
     "output_type": "stream",
     "text": [
      "GroundTruth:     dog   dog   dog   cat\n",
      "Predicted:       dog   dog   dog   cat\n"
     ]
    }
   ],
   "source": [
    "net.eval()\n",
    "images, labels = next(iter(testloader))\n",
    "out = net(Variable(images.to(device)))\n",
    "predicted = torch.max(out.data, 1).indices\n",
    "\n",
    "# print images\n",
    "imshow(torchvision.utils.make_grid(images))\n",
    "plt.show()\n",
    "\n",
    "print('GroundTruth:  ', ' '.join('%5s' % classes[labels[j]] for j in range(4)))\n",
    "\n",
    "_, predicted = torch.max(out.data, 1)\n",
    "print('Predicted:    ', ' '.join('%5s' % classes[predicted[j]] for j in range(4)))"
   ]
  },
  {
   "cell_type": "markdown",
   "metadata": {
    "colab_type": "text",
    "id": "ISA6LJJO81Tg"
   },
   "source": [
    "Let us look at how the network performs on the whole dataset."
   ]
  },
  {
   "cell_type": "code",
   "execution_count": 33,
   "metadata": {
    "colab": {},
    "colab_type": "code",
    "id": "Smv6_BwF81Ti"
   },
   "outputs": [
    {
     "name": "stdout",
     "output_type": "stream",
     "text": [
      "Accuracy of the network on the 2000 test images: 82.20 %\n"
     ]
    }
   ],
   "source": [
    "correct = 0.\n",
    "total = 0.\n",
    "\n",
    "for data in testloader:\n",
    "    images, labels = data\n",
    "    outputs = net(Variable(images.to(device)))\n",
    "    _, predicted = torch.max(outputs.data, 1)\n",
    "    total += labels.size(0)\n",
    "    correct += (predicted == labels.to(device)).sum()\n",
    "\n",
    "print('Accuracy of the network on the {} test images: {:4.2f} %'.format(\n",
    "    testset.data.shape[0], 100 * correct / total))"
   ]
  },
  {
   "cell_type": "markdown",
   "metadata": {
    "colab_type": "text",
    "id": "QMZRvhaW81Tl"
   },
   "source": [
    "Hopefully the network is better than chance, which is $\\frac{1}{\\text{number of classes}}$ accuracy (randomly picking\n",
    "a class).\n",
    "\n",
    "\n",
    "We can also examine which class the network found the most difficult (makes more sense if you have many clases):"
   ]
  },
  {
   "cell_type": "code",
   "execution_count": 34,
   "metadata": {
    "colab": {},
    "colab_type": "code",
    "id": "WqVTQgKq81Tl"
   },
   "outputs": [
    {
     "name": "stdout",
     "output_type": "stream",
     "text": [
      "Accuracy of cat   : 83.70 %\n",
      "Accuracy of dog   : 80.70 %\n"
     ]
    }
   ],
   "source": [
    "class_total = list(0. for i in range(len(classes)))\n",
    "class_correct = list(0. for i in range(len(classes)))\n",
    "\n",
    "for data in testloader:\n",
    "    images, labels = data\n",
    "    outputs = net(Variable(images.to(device)))\n",
    "    _, predicted = torch.max(outputs.data, 1)\n",
    "    c = (predicted == labels.to(device)).squeeze()\n",
    "    \n",
    "    for i in range(len(c)):\n",
    "        label = labels[i]\n",
    "        class_correct[label] += c[i].cpu().numpy()\n",
    "        class_total[label] += 1\n",
    "\n",
    "for i in range(len(classes)):\n",
    "    print('Accuracy of {:5s} : {:5.2f} %'.format(\n",
    "        classes[i], 100 * class_correct[i] / class_total[i]))"
   ]
  },
  {
   "cell_type": "markdown",
   "metadata": {
    "colab_type": "text",
    "id": "ocnQOBAl81Tn"
   },
   "source": [
    "**Assignment 4:** \n",
    "1. Go back and improve performance of the network. \n",
    " * If you are using all 10 classes you should get a test accuracy above 55%, but see how much further you can get it!\n",
    " * If you are using only 2 classes (e.g. cat and dog) you should get a test accuracy above 60%, but see how much further you can get it!\n",
    "\n",
    "2. Briefly describe what you did and any experiments you did along the way as well as what results you obtained.\n",
    "Did anything surprise you during the exercise?\n",
    "\n",
    "3. Write down key lessons/insights you got (if any) during this exercise.\n",
    "\n",
    "**Answer:**\n",
    "\n",
    "Larger networks seems to require significantly more "
   ]
  },
  {
   "cell_type": "markdown",
   "metadata": {
    "colab_type": "text",
    "id": "8Nzefavy81To"
   },
   "source": [
    "# Training on GPU\n",
    "\n",
    "**Optional Assignment:**\n",
    "If you have a GPU we suggest that you try and rewrite the code above to run on the GPU\n",
    "___\n",
    "\n",
    "Just like how you transfer a Tensor on to the GPU, you transfer the neural net onto the GPU.\n",
    "This will recursively go over all modules and convert their parameters and buffers to CUDA tensors:\n",
    "\n",
    "```\n",
    "    net.cuda()\n",
    "```\n",
    "\n",
    "Remember that you will have to send the inputs and targets at every step to the GPU too:\n",
    "\n",
    "```\n",
    "    inputs, labels = Variable(inputs.cuda()), Variable(labels.cuda())\n",
    "```\n",
    "\n",
    "Why dont I notice MASSIVE speedup compared to CPU? \n",
    "Because your network is realllly small.\n",
    "\n",
    "**Exercise:** Try increasing the width of your network (argument 2 of\n",
    "the first ``nn.Conv2d``, and argument 1 of the second ``nn.Conv2d`` –\n",
    "they need to be the same number), see what kind of speedup you get.\n",
    "\n",
    "**Goals achieved**:\n",
    "\n",
    "- Understanding PyTorch's Tensor library and neural networks at a high level.\n",
    "- Train a small neural network to classify images\n",
    "\n",
    "\n"
   ]
  },
  {
   "cell_type": "markdown",
   "metadata": {
    "colab_type": "text",
    "id": "b8mEIylU81Tp"
   },
   "source": [
    "# Michael Nielsen book exercise of own choice\n",
    "\n",
    "**Assignment 5:** Pick an exercise of own choice from [Michael Nielsens book](http://neuralnetworksanddeeplearning.com/)\n",
    "\n",
    "**Answer:** Exercise from chapter 3 (http://neuralnetworksanddeeplearning.com/chap3.html#exercise_332838):  Construct an example showing explicitly that in a network with a sigmoid output layer, the output activations $a_L^j$ won't always sum to 1.\n",
    "\n",
    "Assume the unactivated logits in the last layer are \n",
    "$a_L^j = \\left[1, 2, 3 \\right]^T$\n",
    "And $f$ and $g$ are a sigmoid and softmax function respectively\n",
    "\n",
    "\\begin{align}\n",
    "y &= \\sum f(a_L^j) &\\approx \\sum \\left[0.73, 0.88, 0.95 \\right]^T &\\approx 2.56 \\\\\n",
    "y &= \\sum g(a_L^j) &\\approx \\sum \\left[0.09, 0.24, 0.67 \\right]^T &= 1\n",
    "\\end{align}"
   ]
  },
  {
   "cell_type": "code",
   "execution_count": null,
   "metadata": {},
   "outputs": [],
   "source": []
  }
 ],
 "metadata": {
  "accelerator": "GPU",
  "colab": {
   "name": "Copy of 4.3-EXE-CIFAR-10.ipynb",
   "provenance": []
  },
  "kernelspec": {
   "display_name": "Python 3",
   "language": "python",
   "name": "python3"
  },
  "language_info": {
   "codemirror_mode": {
    "name": "ipython",
    "version": 3
   },
   "file_extension": ".py",
   "mimetype": "text/x-python",
   "name": "python",
   "nbconvert_exporter": "python",
   "pygments_lexer": "ipython3",
   "version": "3.6.9"
  }
 },
 "nbformat": 4,
 "nbformat_minor": 4
}
